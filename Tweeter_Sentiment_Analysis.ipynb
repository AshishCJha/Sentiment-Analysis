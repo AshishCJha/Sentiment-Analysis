{
  "nbformat": 4,
  "nbformat_minor": 0,
  "metadata": {
    "colab": {
      "name": "Tweeter_Sentiment_Analysis.ipynb",
      "version": "0.3.2",
      "provenance": [],
      "collapsed_sections": [],
      "include_colab_link": true
    },
    "kernelspec": {
      "name": "python3",
      "display_name": "Python 3"
    }
  },
  "cells": [
    {
      "cell_type": "markdown",
      "metadata": {
        "id": "view-in-github",
        "colab_type": "text"
      },
      "source": [
        "<a href=\"https://colab.research.google.com/github/AshishCJha/Sentiment-Analysis/blob/master/Tweeter_Sentiment_Analysis.ipynb\" target=\"_parent\"><img src=\"https://colab.research.google.com/assets/colab-badge.svg\" alt=\"Open In Colab\"/></a>"
      ]
    },
    {
      "cell_type": "code",
      "metadata": {
        "id": "fJjBdwH1LWIz",
        "colab_type": "code",
        "colab": {}
      },
      "source": [
        "import numpy as np\n",
        "import pandas as pd\n",
        "import tweepy as tw\n",
        "import itertools\n",
        "import collections\n",
        "from textblob import TextBlob\n",
        "import seaborn as sns\n",
        "import matplotlib.pyplot as plt\n",
        "import re\n"
      ],
      "execution_count": 0,
      "outputs": []
    },
    {
      "cell_type": "code",
      "metadata": {
        "id": "JPXwBeipLiHG",
        "colab_type": "code",
        "colab": {}
      },
      "source": [
        "consumer_key =  '5s30uper0Oz5UJ151PP95gUbK'\n",
        "consumer_secret = '9dPw5TPuzsiAWk4x0gqGxZyeJtOgvDxmBAodkvBBPL8BIKcP7D'\n",
        "access_token = '2467536254-VMsdfrHTBzydlcPYspksOcGtRItjMC64twbWizc'\n",
        "access_token_secret = 'ixD37uxnWj95nZ5aU62nUsawjc7Nml24PEjNU2a0MhFAt'"
      ],
      "execution_count": 0,
      "outputs": []
    },
    {
      "cell_type": "code",
      "metadata": {
        "id": "k45upo37MYQd",
        "colab_type": "code",
        "colab": {}
      },
      "source": [
        "auth = tw.OAuthHandler(consumer_key, consumer_secret)\n",
        "auth.set_access_token(access_token, access_token_secret)\n",
        "api = tweepy.API(auth,wait_on_rate_limit = True)"
      ],
      "execution_count": 0,
      "outputs": []
    },
    {
      "cell_type": "code",
      "metadata": {
        "id": "yu0RvdwMMxyl",
        "colab_type": "code",
        "outputId": "0d18b771-dfcf-4e17-8bba-7d2e167fa133",
        "colab": {
          "base_uri": "https://localhost:8080/",
          "height": 407
        }
      },
      "source": [
        "public_tweets = api.home_timeline()\n",
        "for tweet in public_tweets:\n",
        "  print(tweet.text)"
      ],
      "execution_count": 0,
      "outputs": [
        {
          "output_type": "stream",
          "text": [
            "SuperStar Bhaiya @AmitV_Deshmukh 👏👏👏 https://t.co/hOYJLb6axn\n",
            "हिंदी दिवस पर आप सभी को बहुत-बहुत बधाई। भाषा की सरलता, सहजता और शालीनता अभिव्यक्ति को सार्थकता प्रदान करती है। हिं… https://t.co/FcVmkaZw89\n",
            "Inviting Technologists and specially Young Innovators and Researchers https://t.co/MOaQF3YYF0\n",
            "Tesla commercial solar ordering now live at https://t.co/sCkn87vMa9!\n",
            "Only few days left to close this course. \n",
            "\n",
            "If you are a professional or faculty, this course is almost free for you… https://t.co/alnjqoic9D\n",
            "This is a hard strategic analytics balance: Solve for today, the anticipated future, or the new unfamiliar but like… https://t.co/tTGxhZxkr7\n",
            "RT @DCPSEBCP: Conducted meeting with the residents of Venkatapura within Madiwala station limits. Heard their complaints. Had a healthy dia…\n",
            "On his Jayanti, I bow to the venerable Sree Narayana Guru. His rich thoughts, noble ideals and emphasis on social h… https://t.co/IREeJcva9u\n",
            "RT @vvpuramtrfps: ಸಂಚಾರ ನಿಯಮಗಳನ್ನು ಪಾಲಿಸಿ, ಹಣ ಉಳಿಸಿ.\n",
            "AVOID TRAFFIC VIOLATION, SAVE MONEY https://t.co/0ddrQwcKdC\n",
            "RT @bialtrafficps: ಕಿರುತೆರೆ ನಟ ಡಾ|| ದೇವನಹಳ್ಳಿ ದೇವರಾಜ್ ರವರು ಸಂಚಾರ ನಿಯಮಗಳ ಬಗ್ಗೆ ತಮ್ಮ ಅನಿಸಿಕೆ ವ್ಯಕ್ತಪಡಿಸಿರುವುದು. https://t.co/ETZoQF70BO\n",
            "RT @jointcptraffic: https://t.co/bzjM41kJke\n",
            "The capsizing of a boat at Khatlapura Ghat in Bhopal is saddening. In this hour of grief, our thoughts are with the… https://t.co/4EOoYrGdLy\n",
            "RT @IBMNews: At the Frankfurt Motor Show, IBM CEO Ginni Rometty spoke about the future of the auto industry--and what will matter to consum…\n",
            "Thank You so much @khushsundar ji https://t.co/21c2HDCKnQ\n",
            "RT @LogeshVincent: IBM Career Education, training on IBM Big Data &amp; Hadoop Ecosystems for Faculty Members #IBMCE #IBM @IBM @madhumitaphukan…\n",
            "I look forward to hearing your insightful ideas for this month’s #MannKiBaat, which will take place on the 29th. Di… https://t.co/lxniMz7Ur4\n",
            "This National #RecoveryMonth, we’ve launched a new site to share tools and resources on addiction treatment and rec… https://t.co/qpTciputGI\n",
            "Matchmaking! https://t.co/Buzmxa2bqc\n",
            "The Lasker-Bloomberg Public Service Award is a well-deserved recognition of @gavi's life-saving work. Congratulatio… https://t.co/5gxMmN0HRv\n"
          ],
          "name": "stdout"
        }
      ]
    },
    {
      "cell_type": "code",
      "metadata": {
        "id": "8pOMty_TNp5Z",
        "colab_type": "code",
        "outputId": "d288fcd3-3a21-4e1b-ed4e-e02382b93f91",
        "colab": {
          "base_uri": "https://localhost:8080/",
          "height": 70
        }
      },
      "source": [
        "user = api.get_user('@AshishCJha')\n",
        "print('User Screen Name')\n",
        "print(user.screen_name)\n",
        "print(user.followers_count)"
      ],
      "execution_count": 0,
      "outputs": [
        {
          "output_type": "stream",
          "text": [
            "User Screen Name\n",
            "AshishCJha\n",
            "93\n"
          ],
          "name": "stdout"
        }
      ]
    },
    {
      "cell_type": "code",
      "metadata": {
        "id": "gDNfhkILO5rZ",
        "colab_type": "code",
        "outputId": "5ebb083f-83f0-4711-de8a-a301695e118a",
        "colab": {
          "base_uri": "https://localhost:8080/",
          "height": 372
        }
      },
      "source": [
        "for friend in user.friends():\n",
        "  print(friend.screen_name)"
      ],
      "execution_count": 0,
      "outputs": [
        {
          "output_type": "stream",
          "text": [
            "sundarpichai\n",
            "satyanadella\n",
            "elonmusk\n",
            "ramavshree\n",
            "sandeepgiri\n",
            "gpingali\n",
            "madhumitaphukan\n",
            "pradmishra1\n",
            "TaramsTech\n",
            "Ashu879299\n",
            "Priyank00891210\n",
            "AmritSh65258967\n",
            "sumeet8690\n",
            "vidya_sagar_CH\n",
            "DCPCentralBCP\n",
            "goyal_abhei\n",
            "BlrCityPolice\n",
            "Nandinijaiswa20\n",
            "CreativityEnhan\n",
            "akshaymishra14\n"
          ],
          "name": "stdout"
        }
      ]
    },
    {
      "cell_type": "code",
      "metadata": {
        "id": "lpzF73MWPG0I",
        "colab_type": "code",
        "outputId": "7422dc0b-d170-45ca-c812-4314f4c4cfbf",
        "colab": {
          "base_uri": "https://localhost:8080/",
          "height": 372
        }
      },
      "source": [
        "for followers in user.followers():\n",
        "  print(followers.screen_name)"
      ],
      "execution_count": 0,
      "outputs": [
        {
          "output_type": "stream",
          "text": [
            "pradmishra1\n",
            "madhumitaphukan\n",
            "SahuSomeshsahu\n",
            "sachidanandjh14\n",
            "Husenbadshah\n",
            "SatpalR80390544\n",
            "PoonamK66308920\n",
            "Chandan67680040\n",
            "Shankar48246985\n",
            "Roshni8191\n",
            "Ravi96084581\n",
            "NavyaSh79631629\n",
            "SANJU67283222\n",
            "Prakash64352263\n",
            "MadhuBhelley\n",
            "arpitsamar\n",
            "Singh_ankyy\n",
            "RupeshS29096452\n",
            "RahulKu19941780\n",
            "Priyank00891210\n"
          ],
          "name": "stdout"
        }
      ]
    },
    {
      "cell_type": "code",
      "metadata": {
        "id": "IjfbkXA4PXlm",
        "colab_type": "code",
        "outputId": "50195d5e-bfdb-4b53-c91f-565650033fdc",
        "colab": {
          "base_uri": "https://localhost:8080/",
          "height": 54
        }
      },
      "source": [
        "api.update_status('Sample tweet using #Python and #Tweepy packages')"
      ],
      "execution_count": 0,
      "outputs": [
        {
          "output_type": "execute_result",
          "data": {
            "text/plain": [
              "Status(_api=<tweepy.api.API object at 0x7fe759d3cda0>, _json={'created_at': 'Sat Sep 14 05:31:48 +0000 2019', 'id': 1172744734974062597, 'id_str': '1172744734974062597', 'text': 'Sample tweet using #Python and #Tweepy packages', 'truncated': False, 'entities': {'hashtags': [{'text': 'Python', 'indices': [19, 26]}, {'text': 'Tweepy', 'indices': [31, 38]}], 'symbols': [], 'user_mentions': [], 'urls': []}, 'source': '<a href=\"https://github.com/AshishCJha\" rel=\"nofollow\">ashishchandrajhatweets</a>', 'in_reply_to_status_id': None, 'in_reply_to_status_id_str': None, 'in_reply_to_user_id': None, 'in_reply_to_user_id_str': None, 'in_reply_to_screen_name': None, 'user': {'id': 2467536254, 'id_str': '2467536254', 'name': 'Ashish', 'screen_name': 'AshishCJha', 'location': 'Bengaluru, India', 'description': 'AI Vision | Poetic Thought | Yogi', 'url': None, 'entities': {'description': {'urls': []}}, 'protected': False, 'followers_count': 93, 'friends_count': 59, 'listed_count': 4, 'created_at': 'Mon Apr 28 10:22:00 +0000 2014', 'favourites_count': 50, 'utc_offset': None, 'time_zone': None, 'geo_enabled': True, 'verified': False, 'statuses_count': 188, 'lang': None, 'contributors_enabled': False, 'is_translator': False, 'is_translation_enabled': False, 'profile_background_color': 'C0DEED', 'profile_background_image_url': 'http://abs.twimg.com/images/themes/theme1/bg.png', 'profile_background_image_url_https': 'https://abs.twimg.com/images/themes/theme1/bg.png', 'profile_background_tile': False, 'profile_image_url': 'http://pbs.twimg.com/profile_images/806792965414760450/r-VZZ68Y_normal.jpg', 'profile_image_url_https': 'https://pbs.twimg.com/profile_images/806792965414760450/r-VZZ68Y_normal.jpg', 'profile_banner_url': 'https://pbs.twimg.com/profile_banners/2467536254/1469446091', 'profile_link_color': '1DA1F2', 'profile_sidebar_border_color': 'C0DEED', 'profile_sidebar_fill_color': 'DDEEF6', 'profile_text_color': '333333', 'profile_use_background_image': True, 'has_extended_profile': False, 'default_profile': True, 'default_profile_image': False, 'following': False, 'follow_request_sent': False, 'notifications': False, 'translator_type': 'none'}, 'geo': None, 'coordinates': None, 'place': None, 'contributors': None, 'is_quote_status': False, 'retweet_count': 0, 'favorite_count': 0, 'favorited': False, 'retweeted': False, 'lang': 'en'}, created_at=datetime.datetime(2019, 9, 14, 5, 31, 48), id=1172744734974062597, id_str='1172744734974062597', text='Sample tweet using #Python and #Tweepy packages', truncated=False, entities={'hashtags': [{'text': 'Python', 'indices': [19, 26]}, {'text': 'Tweepy', 'indices': [31, 38]}], 'symbols': [], 'user_mentions': [], 'urls': []}, source='ashishchandrajhatweets', source_url='https://github.com/AshishCJha', in_reply_to_status_id=None, in_reply_to_status_id_str=None, in_reply_to_user_id=None, in_reply_to_user_id_str=None, in_reply_to_screen_name=None, author=User(_api=<tweepy.api.API object at 0x7fe759d3cda0>, _json={'id': 2467536254, 'id_str': '2467536254', 'name': 'Ashish', 'screen_name': 'AshishCJha', 'location': 'Bengaluru, India', 'description': 'AI Vision | Poetic Thought | Yogi', 'url': None, 'entities': {'description': {'urls': []}}, 'protected': False, 'followers_count': 93, 'friends_count': 59, 'listed_count': 4, 'created_at': 'Mon Apr 28 10:22:00 +0000 2014', 'favourites_count': 50, 'utc_offset': None, 'time_zone': None, 'geo_enabled': True, 'verified': False, 'statuses_count': 188, 'lang': None, 'contributors_enabled': False, 'is_translator': False, 'is_translation_enabled': False, 'profile_background_color': 'C0DEED', 'profile_background_image_url': 'http://abs.twimg.com/images/themes/theme1/bg.png', 'profile_background_image_url_https': 'https://abs.twimg.com/images/themes/theme1/bg.png', 'profile_background_tile': False, 'profile_image_url': 'http://pbs.twimg.com/profile_images/806792965414760450/r-VZZ68Y_normal.jpg', 'profile_image_url_https': 'https://pbs.twimg.com/profile_images/806792965414760450/r-VZZ68Y_normal.jpg', 'profile_banner_url': 'https://pbs.twimg.com/profile_banners/2467536254/1469446091', 'profile_link_color': '1DA1F2', 'profile_sidebar_border_color': 'C0DEED', 'profile_sidebar_fill_color': 'DDEEF6', 'profile_text_color': '333333', 'profile_use_background_image': True, 'has_extended_profile': False, 'default_profile': True, 'default_profile_image': False, 'following': False, 'follow_request_sent': False, 'notifications': False, 'translator_type': 'none'}, id=2467536254, id_str='2467536254', name='Ashish', screen_name='AshishCJha', location='Bengaluru, India', description='AI Vision | Poetic Thought | Yogi', url=None, entities={'description': {'urls': []}}, protected=False, followers_count=93, friends_count=59, listed_count=4, created_at=datetime.datetime(2014, 4, 28, 10, 22), favourites_count=50, utc_offset=None, time_zone=None, geo_enabled=True, verified=False, statuses_count=188, lang=None, contributors_enabled=False, is_translator=False, is_translation_enabled=False, profile_background_color='C0DEED', profile_background_image_url='http://abs.twimg.com/images/themes/theme1/bg.png', profile_background_image_url_https='https://abs.twimg.com/images/themes/theme1/bg.png', profile_background_tile=False, profile_image_url='http://pbs.twimg.com/profile_images/806792965414760450/r-VZZ68Y_normal.jpg', profile_image_url_https='https://pbs.twimg.com/profile_images/806792965414760450/r-VZZ68Y_normal.jpg', profile_banner_url='https://pbs.twimg.com/profile_banners/2467536254/1469446091', profile_link_color='1DA1F2', profile_sidebar_border_color='C0DEED', profile_sidebar_fill_color='DDEEF6', profile_text_color='333333', profile_use_background_image=True, has_extended_profile=False, default_profile=True, default_profile_image=False, following=False, follow_request_sent=False, notifications=False, translator_type='none'), user=User(_api=<tweepy.api.API object at 0x7fe759d3cda0>, _json={'id': 2467536254, 'id_str': '2467536254', 'name': 'Ashish', 'screen_name': 'AshishCJha', 'location': 'Bengaluru, India', 'description': 'AI Vision | Poetic Thought | Yogi', 'url': None, 'entities': {'description': {'urls': []}}, 'protected': False, 'followers_count': 93, 'friends_count': 59, 'listed_count': 4, 'created_at': 'Mon Apr 28 10:22:00 +0000 2014', 'favourites_count': 50, 'utc_offset': None, 'time_zone': None, 'geo_enabled': True, 'verified': False, 'statuses_count': 188, 'lang': None, 'contributors_enabled': False, 'is_translator': False, 'is_translation_enabled': False, 'profile_background_color': 'C0DEED', 'profile_background_image_url': 'http://abs.twimg.com/images/themes/theme1/bg.png', 'profile_background_image_url_https': 'https://abs.twimg.com/images/themes/theme1/bg.png', 'profile_background_tile': False, 'profile_image_url': 'http://pbs.twimg.com/profile_images/806792965414760450/r-VZZ68Y_normal.jpg', 'profile_image_url_https': 'https://pbs.twimg.com/profile_images/806792965414760450/r-VZZ68Y_normal.jpg', 'profile_banner_url': 'https://pbs.twimg.com/profile_banners/2467536254/1469446091', 'profile_link_color': '1DA1F2', 'profile_sidebar_border_color': 'C0DEED', 'profile_sidebar_fill_color': 'DDEEF6', 'profile_text_color': '333333', 'profile_use_background_image': True, 'has_extended_profile': False, 'default_profile': True, 'default_profile_image': False, 'following': False, 'follow_request_sent': False, 'notifications': False, 'translator_type': 'none'}, id=2467536254, id_str='2467536254', name='Ashish', screen_name='AshishCJha', location='Bengaluru, India', description='AI Vision | Poetic Thought | Yogi', url=None, entities={'description': {'urls': []}}, protected=False, followers_count=93, friends_count=59, listed_count=4, created_at=datetime.datetime(2014, 4, 28, 10, 22), favourites_count=50, utc_offset=None, time_zone=None, geo_enabled=True, verified=False, statuses_count=188, lang=None, contributors_enabled=False, is_translator=False, is_translation_enabled=False, profile_background_color='C0DEED', profile_background_image_url='http://abs.twimg.com/images/themes/theme1/bg.png', profile_background_image_url_https='https://abs.twimg.com/images/themes/theme1/bg.png', profile_background_tile=False, profile_image_url='http://pbs.twimg.com/profile_images/806792965414760450/r-VZZ68Y_normal.jpg', profile_image_url_https='https://pbs.twimg.com/profile_images/806792965414760450/r-VZZ68Y_normal.jpg', profile_banner_url='https://pbs.twimg.com/profile_banners/2467536254/1469446091', profile_link_color='1DA1F2', profile_sidebar_border_color='C0DEED', profile_sidebar_fill_color='DDEEF6', profile_text_color='333333', profile_use_background_image=True, has_extended_profile=False, default_profile=True, default_profile_image=False, following=False, follow_request_sent=False, notifications=False, translator_type='none'), geo=None, coordinates=None, place=None, contributors=None, is_quote_status=False, retweet_count=0, favorite_count=0, favorited=False, retweeted=False, lang='en')"
            ]
          },
          "metadata": {
            "tags": []
          },
          "execution_count": 16
        }
      ]
    },
    {
      "cell_type": "code",
      "metadata": {
        "id": "kDaqZLz1Qp5R",
        "colab_type": "code",
        "colab": {}
      },
      "source": [
        "tweets = tw.Cursor(api.search, q='@isro-filter:retweets', lang = 'en', since = '2019-04-01').items(100)"
      ],
      "execution_count": 0,
      "outputs": []
    },
    {
      "cell_type": "code",
      "metadata": {
        "id": "sKazgGGbRmlP",
        "colab_type": "code",
        "outputId": "fafe72b7-83ae-4709-f622-0280cb8e1b38",
        "colab": {
          "base_uri": "https://localhost:8080/",
          "height": 1000
        }
      },
      "source": [
        "tweets_text = [tweet.text for tweet in tweets]\n",
        "tweets_text"
      ],
      "execution_count": 0,
      "outputs": [
        {
          "output_type": "execute_result",
          "data": {
            "text/plain": [
              "['@DhiraJThakrE12 @Hindusthaani1 @Astro_Neel @isro @chandrayan2 U r absolutely right and even indeed!!!..... But paki… https://t.co/arjfoWlcgm',\n",
              " '@Kishor_a @isro @GauravModiBhakt @nishants79 @Ramesh_BJP @AkshayBhade5 @AdvNileshSharma @VidarbhaPutra… https://t.co/SzIG1Dl01Y',\n",
              " '@isro Weldon  i am proud of isro',\n",
              " '@DrKumarVishwas @PMOIndia @isro @narendramodi Very nice sir',\n",
              " 'Special pics for people teaching science to @isro &amp; comparing them with NASA. \\n\\nHere is what NASA does before sendi… https://t.co/gEh6gXKN8j',\n",
              " 'Got my boarding pass for #Mars2020 from @NASA\\n\\nNASA will send my name to Mars.\\n@isro @NASA https://t.co/YAJX69IN6k',\n",
              " '@M19Sen @BlackBallBoy1 @holatombola @isro Sanskrit is foreign language , are you serious ?',\n",
              " '@isro make most of your efforts on today &amp; tomorrow, as highest chances of contact with #Vikram exist on these days… https://t.co/5661r7I6T6',\n",
              " '@isro @NASA @PMOIndia @narendramodi @AskAnshul @goldstone Now goldstone antena is trying to establish ntwrk wid cha… https://t.co/2X8Ui9njxw',\n",
              " '@isro \\nWhenever I look at you\\nI remember the things I do...\\nThe way I stare at you\\nRight from the day you grew\\nWith… https://t.co/VQfPyaXQ9t',\n",
              " '@isro any update.??',\n",
              " '@namik_paul @isro Exactly so. A big salute for the brave hearts',\n",
              " 'An @isro official reportedly said that with each passing hour, the available power on the battery of Vikram lander… https://t.co/4pjHvBuELw',\n",
              " '@Ajitki_jeet @isro Fake',\n",
              " 'This year, Mathura’s famous Chhappan Bhog dedicated to @ISRO, #Chandrayaan2 moon mission\\n\\nhttps://t.co/tTT9JRikqT https://t.co/HCLAUr9tSb',\n",
              " 'An @isro official reportedly said that with each passing hour, the available power on the battery of Vikram lander… https://t.co/ilAL2pVNmD',\n",
              " '@DrKumarVishwas @PMOIndia @isro @narendramodi Blessed to have scientists like you...a real hero and warrior...... Our intellectual capital',\n",
              " 'We all are praying and waiting for the good news from @isro. @isro make us achieved a lot of things which nobody ha… https://t.co/c7jQLBAvGA',\n",
              " \"@pallavabagla @isro @PMOIndia Don't try to act smart Bagla. You can't cover the damage done to the millions of Indi… https://t.co/CBEzcKNiD6\",\n",
              " '@isro these are not pictures from #VikramLander. This is very much Mumbai, Planet 🌍. Craters opposite Sant Nirankar… https://t.co/BktcBYOjW9',\n",
              " '@PIB_India @isro God help you your mission Chandra yan 2',\n",
              " 'As a scientist of which line of thinking schools currently active? #DemDebate @BernieSanders @ActuallyNPH… https://t.co/j76KwhNU4Q',\n",
              " 'Why why not they have given facility what they deserve ? sly we are sending things to Moon-Mars- Sun-Space but can’… https://t.co/agzvtI8OPS',\n",
              " 'Thanks for the inspiration @isro \\nAs always 🙏 #isro #space #Chandrayan2 https://t.co/MXXOT4LlRy',\n",
              " '@PrithaG56322001 @DahiyaViresh @ShubhiG80263962 @MamataOfficial @isro Its too complex for you to understand what In… https://t.co/OqcX0uFD5l',\n",
              " '@isro I proud of ISRO which makes me more interested of my Physics study.',\n",
              " '@DishPatani @isro You are so  beautiful',\n",
              " '@ItsReal_SahiL @AsianDef @WajSKhan @ImranKhanPTI @BankofAmerica @TinaBrownLM @SpeakerPelosi @isro is still miles ah… https://t.co/dtXzgV3Dus',\n",
              " 'why @isro has only one week to communicate with Lander,,, aree Take your tym ,,, no need to be hurry itni mehnat ki… https://t.co/yQv2CLTfYf',\n",
              " 'Chandrayaan-2 lander downlink again shows carrier signal reception at 9:09 pm California time. Also for the first t… https://t.co/a9vwgs7pzE',\n",
              " \"@isro Sir next time don't ask visitors for viewing chandrayan it is not necessary they disturb the practical event… https://t.co/dor4HNdJlL\",\n",
              " '@IndiaAtWar @DahiyaViresh @ShubhiG80263962 @MamataOfficial @isro Someone who starts an ID with india at war, needs… https://t.co/hJImZFAMr0',\n",
              " '@rambabugorre @isro @isro saying it orbit 4 hours above Vikram Lander but not publicized any data. Goldstone DSN no… https://t.co/ZjxDoHDnHu',\n",
              " '@DahiyaViresh @ShubhiG80263962 @IndiaAtWar @MamataOfficial @isro Oh I was under this opinion that u went with the b… https://t.co/Gw6LFvn14Q',\n",
              " '@DahiyaViresh @ShubhiG80263962 @IndiaAtWar @MamataOfficial @isro Maybe she appeases minorities but she vouches in d… https://t.co/YBWRFZXFNs',\n",
              " '@isro as a layman, i have a question. Moon orbiter can take pics of surface of moon. Why was it not able to take pi… https://t.co/qlTRUIMbAT',\n",
              " '@isro best of luck',\n",
              " '@Ajitki_jeet @isro Nice',\n",
              " 'Thanks to isro .proudfull;JAI HIND\\n@ISRO ,@narendramodi ,@akshaykumar',\n",
              " \"@DahiyaViresh @ShubhiG80263962 @IndiaAtWar @MamataOfficial @isro It's not hesitation. If u see a bengali chanting j… https://t.co/pem1b34mzL\",\n",
              " '@isro Hope so communication will stablish we all prey for that \\nThanks @isro',\n",
              " '@DahiyaViresh @ShubhiG80263962 @IndiaAtWar @MamataOfficial @isro Will surely do so',\n",
              " '@isro any msg from Lander...',\n",
              " '@coastal8049 its for you sir \\nThanks sir from all indians ❣🇮🇳❣. Sir if u know #hindi language see this news on indi… https://t.co/7KhkkxPsFT',\n",
              " '@isro We know that #isro will complete this mission\\n@isro',\n",
              " '@isro @isro any chance harvest moon can help to get clear images of Vikram or may be solar panel alignments might g… https://t.co/1BnIUbtgpC',\n",
              " '@Sameraofficial1 @peaceforchange @isro Two countries got independence on same day, One has already reached mars now… https://t.co/qJewPERGJF',\n",
              " \"@peaceforchange @KashmiriKhadija @isro Ridiculous.... @isro isn't blame any one and not mostly Indians said a word… https://t.co/uctD883nLG\",\n",
              " '@pwn3049 @NASA @isro I appreciate the idea.💯',\n",
              " '@isro We Pround To Our Space Misson',\n",
              " '@HarshaKallapur @dinesh_navada @BlackBallBoy1 @holatombola @isro Disproved 😂😂😂😂😂',\n",
              " 'Eco friendly goods include plants and herbs. And their over demand will create imbalance in nature.@PMOIndia… https://t.co/KBL0P1l8eg',\n",
              " '@isro @MarsOrbiter What it that design in image no.2?How it formed?',\n",
              " '@isro @MarsOrbiter What is the design in image no.2?How it formed?',\n",
              " '#Chanrayaan2: Very little time left for ISRO to contact vikram lander\\n\\nAn ISRO scientist said, as time passes, cont… https://t.co/jgFCpWabfv',\n",
              " '@kishusia @isro Amazing',\n",
              " '@APPNCR1 @isro Great saying is there failure is the pillar of success. So we will succeed',\n",
              " '#ISROMissions @isro , you have given vision and mission to our young scientists !! https://t.co/fpeMzfDTOb',\n",
              " 'Waaaaaaah... @isro The moon is but one destination. The GALAXY is what WE DREAM of EXPLORING ! https://t.co/NSbflb7eYi',\n",
              " '@Ajitki_jeet @isro Today in 1949, the Constituent Assembly of India adopted Hindi in Devnagari script as the offici… https://t.co/DALUNukhdr',\n",
              " '@isro is it any communcation with chandrayaan2 ?',\n",
              " '@isro Is ok \"dear ISRO\" team . \\nwe are full confidence \\nto next target 🙏\\n\\nK. siwan ji **head shoft to u**',\n",
              " '@GautamGambhir @narendramodi @isro 🥀🌹🙏🥀🌹🌷🇮🇳🇮🇳🌷jai hind sir',\n",
              " \"In India, around 90s, whenever we kid heard about 'space', we used to think of @NASA. Now, this generation think of… https://t.co/8IYQQcOJiJ\",\n",
              " '@isro Heyy team ISRO pls update abt Vikram Lander pls',\n",
              " 'Chandrayaan-2: How a somersault did Vikram lander in | India Today Exclusive - SCIENCE News https://t.co/RJwOSZRP1h… https://t.co/i8ecLGlxQL',\n",
              " '@isro I wish to gis 3d photogrammetry and  lidar  process use moon.its helpful Geography information',\n",
              " '#Isro has seen conspiracy, spying in filmy style. S. Nambinarayan case is just indication that what kind on penetra… https://t.co/yMOxZC0Bac',\n",
              " 'A billion people of this nation are scientifically curious sir @PrinSciAdvGoI but the scientific org. of our countr… https://t.co/f4VBRfElz5',\n",
              " 'Also the official handle of @isro is not doing much in sharing the info w/ the public. We are getting much more inf… https://t.co/z909kLJYCT',\n",
              " \"@ArmoredBricks @LEGOIdeas @LEGOIdeas Possible to make one of the @isro and it's Rockets, Satellites? It'll be so co… https://t.co/WUkn1FgR1P\",\n",
              " '@digvijaya_28 \\nKya majak kete ho aap👏\\nFYI @isro established date is : 15 Aug 1969, nehru ji DOD 27 may 1964.  See v… https://t.co/Ub5uX6p2L9',\n",
              " '@isro Proud of India and looking forward to your continued exploration and discovery. We all win!',\n",
              " '@isro Any news?',\n",
              " '#VIPSQuizSeries\\n\\n#SpaceTrivia  🚀 \\n\\nGoogle dedicated a doodle🖌️🎨 celebrating 100th birth anniversary of the father o… https://t.co/LhfXhN867E',\n",
              " 'NASA’s Lunar Recon. Orbiter Cam (LROC) will try &amp; locate #vikram when it does a flyover on Sept 17 &amp; share images i… https://t.co/OUpu0RDKJ3',\n",
              " 'Such A Nice Message @Amul_Coop The Taste Of India @Rssamul All The Best Sir.  Two True Leader Perfect Frame. Touchi… https://t.co/tR0JMAIc6P',\n",
              " '@isro Why #ISRO IS silent? please share info',\n",
              " '@news24tvchannel @coastal8049 @isro I do prathna to bhagwan 🙏',\n",
              " '@valluryb @DJSnM @isro I bet a little bit that the DEM resolution is worse than the visible camera.',\n",
              " \"Does @isro have any plans of sending man to Mars , if yes I'm so excited for that moment . Hope that moment comes a… https://t.co/zJGHmlzrGH\",\n",
              " '@isro We are only getting started ... 👍 We are here to compete with the big dogs already in the league ... Space is… https://t.co/CPWUUOs0P2',\n",
              " \"@IskconInc That's credible source of inspiration of using Mercury to fly saucers through encient Vimanshastra by NASA. @isro @iNSAAjitDoval\",\n",
              " '@MiG82au @DJSnM Applied optimism would be relative to baseless pessimism. @isro using DEMs(Digital Elevation Models) to see better.',\n",
              " 'Mission Mangal Box Office Collection Day 29: Now, Akshay Kumar Has 200 Crore Reasons To Smile - NDTV… https://t.co/ZqLysNlkeM',\n",
              " '@isro The spokes at the bottom could be weighted so the lander is upright. And antennae on all sides for communication',\n",
              " '@isro Good luck. Although landing an object vertically on a few legs at high speed is like a gymnast trying to land… https://t.co/WQzyTZIKMd',\n",
              " '@isro All d best Indians',\n",
              " \"@UMESH_VAGH19 @PMOIndia @isro @HinduJagrutiOrg @REBELKAUR @BardBinita @impriya303 Unfortunate but it's a bitter tru… https://t.co/SvglFnQRZY\",\n",
              " '@isro @narendramodi @PMOIndia @Sujata_Padhy @littlemasterhyd Someone said they are fake pics but they are incredible',\n",
              " '@PMOIndia, @isro @HinduJagrutiOrg\\n@REBELKAUR @BardBinita @impriya303 @Indian_Indrani The matter is very serious😢😢 &amp;… https://t.co/x2VL6dlPqJ',\n",
              " 'NASA joins hands with ISRO ... You will now see lunar images from Vikram lander\\n\\n@isro #ISROspirit #ISRO… https://t.co/BvsJdDrxRd',\n",
              " '@MadhavSheth1 Jo hamare desh ka nhi wo hamara nhi.. you are realfake person.. ek be tweet nhi kiya apne… https://t.co/bWqXdrk0Rf',\n",
              " '@ArnabSpeaks18 @isro Yes sir you are right 🙂🙂',\n",
              " '@isro I proud my Indian k sivan###',\n",
              " '@hd_kumaraswamy A man who was nodding for @INCIndia talks about @BSYBJP inability to act independent. And about ter… https://t.co/zNOdAC3LK0',\n",
              " '@Real_Anuj @Leo_Knock @UP_Silk @isro Please dont link these deaths with #PallavBagla\\n\\nhttps://t.co/leVEtohnP5',\n",
              " 'This is what Happens in Private Hospitals Right Now - https://t.co/9zlrA1aWlT via @Dailymotio @isro Is this happens… https://t.co/NYrCwe7pEN',\n",
              " '@isro my 3rd grader son Arin wants to know why #VikramLander didn’t land somewhere nearby to the South Pole where i… https://t.co/sSKxAoXEMa',\n",
              " '@isro I am proud of isro']"
            ]
          },
          "metadata": {
            "tags": []
          },
          "execution_count": 22
        }
      ]
    },
    {
      "cell_type": "code",
      "metadata": {
        "id": "FzvBL6zJY_BG",
        "colab_type": "code",
        "outputId": "3b69b92e-4bcd-4101-905a-f7a3c01ea061",
        "colab": {
          "base_uri": "https://localhost:8080/",
          "height": 34
        }
      },
      "source": [
        "len(tweets_text)"
      ],
      "execution_count": 0,
      "outputs": [
        {
          "output_type": "execute_result",
          "data": {
            "text/plain": [
              "100"
            ]
          },
          "metadata": {
            "tags": []
          },
          "execution_count": 23
        }
      ]
    },
    {
      "cell_type": "code",
      "metadata": {
        "id": "Yin6yi7pZDgB",
        "colab_type": "code",
        "outputId": "2f12f367-8b4b-4b66-c5bb-0617298759f9",
        "colab": {
          "base_uri": "https://localhost:8080/",
          "height": 52
        }
      },
      "source": [
        "# Pull a perticular tweet\n",
        "print(tweets_text[0])\n",
        "print(tweets_text[7])"
      ],
      "execution_count": 0,
      "outputs": [
        {
          "output_type": "stream",
          "text": [
            "@DhiraJThakrE12 @Hindusthaani1 @Astro_Neel @isro @chandrayan2 U r absolutely right and even indeed!!!..... But paki… https://t.co/arjfoWlcgm\n",
            "@isro make most of your efforts on today &amp; tomorrow, as highest chances of contact with #Vikram exist on these days… https://t.co/5661r7I6T6\n"
          ],
          "name": "stdout"
        }
      ]
    },
    {
      "cell_type": "code",
      "metadata": {
        "id": "UngGIxbnZh_f",
        "colab_type": "code",
        "outputId": "d2959ffd-1ec0-4c88-e6aa-e60003d9a859",
        "colab": {
          "base_uri": "https://localhost:8080/",
          "height": 372
        }
      },
      "source": [
        "# Pull tweets by search words\n",
        "tweets = tw.Cursor(api.search, q='hdfc card offers-filter:retweets',lang = 'en', since = '2019-04-01').items(100)\n",
        "tweets_text = [tweet.text for tweet in tweets]\n",
        "tweets_text"
      ],
      "execution_count": 0,
      "outputs": [
        {
          "output_type": "execute_result",
          "data": {
            "text/plain": [
              "['@talktodebu Hi, we wish to inform that, HDFC Bank offers several promotional offers such as Smart EMI, Insta Jumbo… https://t.co/aj2rGRR0ru',\n",
              " 'Launch offers include no-cost EMIs up to 12 months. HDFC Bank Credit and Debit card users can avail offers up to Rs… https://t.co/5VtRNZ3Kvh',\n",
              " '@HDFC_Bank i am using Hdfc credit card, i applied for this card 3 yrs back till now there is no such offers provide… https://t.co/Es7yVF7fmz',\n",
              " '@Flipkart Why axis bank? How many people have axix card? At least hdfc or sbi or even icici debit card..y icici cre… https://t.co/ZyPrz1hDxT',\n",
              " 'BookMyShow : Get 15% discount up to INR 100 for Movies and Non-Movies\\n\\nThis offer can be availed twice a month\\xa0and… https://t.co/5pu82Nx8C9',\n",
              " \"A new website, a new app, more offers for credit card holders...what's happening at HDFC Bank? Too much competition?\",\n",
              " '@Flipkart @flipkartsupport \\n#TheBigBillionDays Sale \\nWhy not ICICI @ICICIBank  Debit card are coming under this off… https://t.co/PIq6BNXlH0',\n",
              " 'HDFC Credit Card offer: Get Bonus Reward Points as per communication on achieving spend target as mentioned in comm… https://t.co/m3umJM0GAm',\n",
              " 'HDFC Money Back Credit Card: Features, Benefits, Apply, offers https://t.co/RY9RAWwzc2 #HDFC #MoneyBack #CeditCard',\n",
              " 'HDFC Bank offers the #DinersClub International #CreditCards which provides world-class privileges to their card hol… https://t.co/6382Gzqq7Q',\n",
              " '@ChowkidarModi Hi Paras, we regret for the inconvenience. We wish to inform that HDFC offers host of other offers t… https://t.co/Ub03qleWba',\n",
              " '@HDFC_Bank credit card gives you welcome offers that includes various discount vouchers. The one I got, none worked… https://t.co/DM790idkL5',\n",
              " '[Last 1 Day of Sale] 🚩 Mobiles Bonanza Sale ⚡ Best Deals on Best Sellers\\n\\n🌟 5% Instant Discount with HDFC Bank Cred… https://t.co/pIRFbkUdii',\n",
              " 'Why has HDFC Bank suddenly woken up with all these offers for credit card holders? Unheard of that they actually care. Strange.',\n",
              " 'HDFC TIMES CARD user gets extra 7% Discount on all purchases\\n\\nOrder Now - https://t.co/wa8y8H8Pjf\\n-… https://t.co/6p8JPlQgfA',\n",
              " '@HDFC_Bank  Listen Bank, I am not interested in any loan/card and offers.\\n\\nI would request you to please stop calli… https://t.co/06r7kt6VxW',\n",
              " 'HDFC Bank\\n@HDFC_Bank @HDFCBank_Cares you have cheated us twice by offering fraud offers about life time free credit… https://t.co/WKLwrjpwAJ',\n",
              " '@HDFC_Bank @HDFCBank_Cares you have cheated us twice by offering fraud offers about life time free credit card with… https://t.co/ee7w0YQC4v',\n",
              " '@Pradeep48643138 EMI offers and other deals available for HDFC bank credit card from the link https://t.co/kEHbJ0JuaT -Nadia (2/2)',\n",
              " '@ihaveppower Hi Agarwal, you may have faced a temporary glitch earlier. Please try again &amp; let us know if the issue… https://t.co/Z15kwjJCTx']"
            ]
          },
          "metadata": {
            "tags": []
          },
          "execution_count": 26
        }
      ]
    },
    {
      "cell_type": "code",
      "metadata": {
        "id": "bPgkNoZdaUKT",
        "colab_type": "code",
        "outputId": "69c2d944-e9ec-4c69-beb4-cb3ed1137ae1",
        "colab": {
          "base_uri": "https://localhost:8080/",
          "height": 1000
        }
      },
      "source": [
        "# Pull tweets by hashtags\n",
        "tweets = tw.Cursor(api.search, q='#miband4-filter:retweets',lang = 'en', since = '2019-04-01').items(100)\n",
        "tweets_text = [tweet.text for tweet in tweets]\n",
        "tweets_text"
      ],
      "execution_count": 0,
      "outputs": [
        {
          "output_type": "execute_result",
          "data": {
            "text/plain": [
              "['Is it a yes or no for the #MiBand4? Know now!\\n\\n#DCTech\\nhttps://t.co/1PLfhwYV1U',\n",
              " '#miband4 when is going to lunch',\n",
              " '@BrochureLive Retweet Done ☑️\\n#ContestAlert\\n#Winners #win #AmazonGiftCard #MiBand4 #mifan #xiaomiindia #Xiaomi… https://t.co/cMRwqvCLGo',\n",
              " '#Xiaomi #MiBand4: 10 reasons why Mi Band 4 seems like a great upgrade over Mi Band 3 https://t.co/zflvrslv6f… https://t.co/Rw4eZHDYg1',\n",
              " '@BrochureLive Retweet done ✅✅\\n\\n#ContestAlert #Winners #win #AmazonGiftCard #MiBand4 #mifan #xiaomiindia #Xiaomi… https://t.co/NpkJ5EdFQ8',\n",
              " 'Mi Band 4 India: Expected price, specifications and all you need to know \\n#MiBand4\\nhttps://t.co/ANz6KWmUOS',\n",
              " 'Watch the latest video, enter the giveaway to win #MiBand4 https://t.co/aIotFdAuSj 💥💥💥✌️ https://t.co/jI7a6VTLHE',\n",
              " 'Huami and Mi are among the most popular wearable brands that never fail to fascinate users with attractive features… https://t.co/YTRYOirdwN',\n",
              " \"My 11 yrs Son wanna fitness band and he saw many videos but finalised @XiaomiIndia's Mi Band 4. Luckily available f… https://t.co/faJe4LOgD9\",\n",
              " '#Xiaomi is all set to launch the #MiBand4 in India on 17th Sep. The fitness band is touted to feature a a 0.95-inch… https://t.co/ENaYngccdd',\n",
              " 'Xiaomi Mi Band 4 to hit Indian retail shelves on September 17 https://t.co/PbOJyD7pzk #MiBand4 #xiaomi #wearables #technews #india #gadgets',\n",
              " 'Smart Watch &amp; Fitness Tracker Price In Bangladesh | Xaiomi/Huawei/Lemfo/Apple Unboxing Review!!!… https://t.co/jy0oP1qOWH',\n",
              " 'Paracord bracelet mi band 4\\n#Xiaomi  #MiBand4  #paracord #edc #doityourself #miband3 https://t.co/kPgUW9Rljo https://t.co/ak5ifa55yQ',\n",
              " 'Paracord bracelet mi band 4\\n#Xiaomi  #MiBand4  #paracord #edc #doityourself #miband3 https://t.co/kPgUW9Rljo',\n",
              " '@BrochureLive Done all steps\\n\\n#MiBand4 #mifan #xiaomiindia #Xiaomi #fitness #health #healthcare #fitnessmotivation #Wearables',\n",
              " '@Xiaomi When you will launch it in India eagerly waiting !! #MiBand4 #MiSmartBand4',\n",
              " \"It's me, Mario! #xiaomi #MiBand4 #smartband https://t.co/V5rie1IboL\",\n",
              " '🔥 Mi Smart Band 4 Launch on 17th September | #MiBand4\\n👉 https://t.co/6GPFK39D0M https://t.co/f4LbfYRN3Q',\n",
              " '@RedmiIndia @Flipkart @HDFC_Bank No redmi #Airdots &amp; #MiBand4 till now other countries have used these products alr… https://t.co/RU2Mdfc4jF',\n",
              " 'Huami\\xa0Amazfit GTR vs Mi Smart Band 4: Which one to go for? \\n#AmazfitGTR #HuamiAmazfit #MiBand4 #MiSmartBand4… https://t.co/k5BhP3t2OK',\n",
              " 'Today’s achievement, managed to burned 585kcal\\U0001f9d8🏼\\u200d♀️ #MiBand4 #RoadToHealthyLife https://t.co/RyY1Evmp6v',\n",
              " '@XiaomiIndia @Xiaomi Excited to see #MiBand4 coming to India as well as curious about new #xiaomiTV',\n",
              " '@BrochureLive Done \\n#MiBand4 #mifan #xiaomiindia #Xiaomi #fitness #health #healthcare #fitnessmotivation #Wearables',\n",
              " '@BrochureLive Done with all stepp\\n\\n Wish to be lucky\\n\\n#MiBand4 #mifan #xiaomiindia #Xiaomi #fitness #health… https://t.co/0rAj44LcKg',\n",
              " '@BrochureLive Done with all stepp\\n\\n Wish to be lucky\\n\\n#MiBand4 #mifan #xiaomiindia #Xiaomi #fitness #health… https://t.co/FrwkvOkXpC',\n",
              " 'Xiaomi Mi Band 4 sale will be live on Amazon India on 17th September 2019 &gt;&gt;\\n@Xiaomi\\n@XiaomiUSA\\n@XiaomiIndia… https://t.co/wH0ABKnjtL',\n",
              " '#ContestAlert  | 2 lucky #Winners can #win ₹150 worth #AmazonGiftCard\\n\\n\" Just Retweet this tweet to many, Follow &amp;… https://t.co/SPCuaF425b',\n",
              " \"#MiBand4 to #MiTV: Everything that is expected at the #Xiaomi's #SmarterLiving event\\nhttps://t.co/K4Xoc5mvrX\",\n",
              " 'Mi Band 4 Review: Excellent fitness tracker you can bank upon https://t.co/NtCWGfb59u via @netanstech #xiaomi… https://t.co/B40gPeGAls',\n",
              " '@MKBHD Hey Xiaomi Fans, I am Vineet from Xiaomi Daily and I have a written a post about Mi Band 4 releasing in Indi… https://t.co/hbt1x32C1U',\n",
              " 'Hey there everyone, I have written a post about the Mi Band 4 releasing in India on 17th September. Would you buy a… https://t.co/dK9a8sF3DV',\n",
              " '@XiaomiIndia Hey there everyone, I have written a post about the Mi Band 4 releasing in India on 17th September. Wo… https://t.co/sUHXgSP8Xr',\n",
              " 'Much Awaited Mi Band will be available in India from September 17 on Amazon @XiaomiIndia @Xiaomi #MiBand4 #Xiaomi… https://t.co/sMVlTIubbJ',\n",
              " '@XiaomiIndia Very much excited \\n#MiBand4',\n",
              " '@manukumarjain @XiaomiIndia @SnehaTainwala @laurelsudeep @iamdu409 @PayWithMi @RedmiIndia What are you wearing in your hand #MiBand4',\n",
              " '#MiBand4 available in India\\nLaunch in #Amazon #onSep17 https://t.co/DIqoRSlVlK',\n",
              " 'Well, hello there 😏💖 #MiBand4 https://t.co/X1M9GBDjEn',\n",
              " '@XiaomiIndia #MiBand4  obviously the colour display',\n",
              " 'https://t.co/6p2YQbwsEV\\n\\nA must have accessory for fitness freaks\\n\\n#AmitBhawani #Giveaway #MiBand4 #Unboxing',\n",
              " \"@Xiaomi @TakasSriLanka #MiBand4 doesn't support unicode; not even emojis.\",\n",
              " '@manukumarjain @PrimeVideoIN Its gonna be the one &amp; only Kaleen Bhaiya\\U0001f92a😅🤣\\n#SmarterLiving #MiTV #Xiaomi \\n#RedmiTV #MiBand4',\n",
              " '🔥 Mi Smart Band 4 Launch on 17th September | #MiBand4\\n👉 https://t.co/iVlUIhDC8n https://t.co/JIMSD7on0I',\n",
              " '@beebomco Too late for #MiBand4 especially #AvengersEdition  😑',\n",
              " \"Apple Watch Series 5: What's new?\\n#WearableTech #AppleWatchSeries5 #AppleWatch #MiBand4 #Smartwatch \\n https://t.co/BqcNIjAzdX\",\n",
              " \"@XiaomiIndia Yey........ Finally #MiBand4 is coming... 😍😍😍😍👍🏻can't wait 😊😊😍👍🏻\",\n",
              " \".@XiaomiIndia's upcoming product launches\\n\\n#MiBand4 #MiTV\\n\\n@htTweets\\nhttps://t.co/mZaFl7Q5JT\",\n",
              " '@XiaomiIndia Mi Smart Band 4 is coming!\\n#SmarterLiving #Xiaomi #MiBand4',\n",
              " '@manukumarjain @XiaomiIndia @RedmiIndia \\n#MiBand4 #PriceTargets #PRICEININDIA\\nWhat will it cost in India .?? In Chi… https://t.co/k26Sv6UY9F',\n",
              " \"Will Huami's #Amazfit GTR 47.2 mm bring #MiBand4 to shame?\\n\\n#DCTech #Huami \\nhttps://t.co/zQ7OrTOM5T\",\n",
              " 'The wait is finally over, #MiBand4 is listed on #Amazon \\n\\n#DCTech @amazonIN @XiaomiIndia\\nhttps://t.co/1GpvTlDzvY',\n",
              " '#MiBand4 India release showed, will be sold through Amazon:\\n\\nhttps://t.co/uh9b4pvRrd https://t.co/Bozr78bSqu',\n",
              " '#Xiaomi is also launching 2 more products besides #MiTV and #MiBand4 at #SmarterLiving 2020. \\n1. Mi Water purifier… https://t.co/Y6GUiI8JrZ',\n",
              " 'Mi Band 4 India Launch Confirmed on September 17 #Gadgets #Wearables #MiBand4 #XiaomiBand #XiaomiSmartBand https://t.co/PTB3jB0iTy',\n",
              " 'Mi Band 4 India Launch Confirmed on September 17 #Gadgets #Wearables #MiBand4 #XiaomiBand #XiaomiSmartBand https://t.co/6NYPvE8LqC',\n",
              " '@XiaomiIndia The design looks similar to band 3 #miband #MiBand4 #band3 #miband3 #mi @XiaomiIndia',\n",
              " 'Daming freebies.. ♥️\\n#MiBand4 https://t.co/JCHLqP3K90',\n",
              " 'The #Mifit app is having serious performance issues. It takes more than 5 sec to open on my #Pocof1 and isnt compre… https://t.co/0gdhFZS7qX',\n",
              " '@manishrath07 @tim_cook Even a Rs. 2.5k Smartband can measure BPM.\\n#HonorBand5 #MiBand4',\n",
              " '@RajivMakhni Any early reviews of #MiBand4 #6daystogo \\nhttps://t.co/WxlB6nMisJ',\n",
              " 'Just a day after Xiaomi teased the imminent launch of Mi Band 4 on its social media channels, Amazon India has conf… https://t.co/rc5f1E4cQu',\n",
              " '@manukumarjain will #miband4 come in India with voice assistant.',\n",
              " 'Mi Band 4 India Launch Confirmed, Will Be Sold via Amazon\\n\\nAmazon India has confirmed that Mi Band 4 will indeed la… https://t.co/yMDziCEDFl',\n",
              " 'Please Xiaomi allow people to make their own watch faces for the mi band 4.. which is the main selling point of it.… https://t.co/N4hRIPfZoi',\n",
              " 'Further, Xiaomi has made it 5 ATM rated, allowing it to track swimming as well.\\n.\\n#techwhoosh #xiaomi #miband4 #mi… https://t.co/toGT34o4gU',\n",
              " '#MiBand4 waiting for the Honest Pricing https://t.co/LCaGN4KG1g',\n",
              " '@XiaomiIndia @manukumarjain Mi Smart band 4 #miband4',\n",
              " \"Xiaomi Mi Band 4 to finally launch alongside Xiaomi's new TV on September 17.\\n#Xiaomi #Miband4\",\n",
              " 'ｓｗｉｍｍｉｎｇ 🏊\\u200d♂️ #MiBand4 https://t.co/kKLTPhwulk',\n",
              " 'Waiting 😍😍😍\\n#MiBand4 \\nhttps://t.co/mJXGF0qj5p',\n",
              " '@Xiaomi is all set to launch the #MiBand4 on September 17 in India\\n\\nhttps://t.co/kUUWihkOUG https://t.co/fyYHaFPnY2',\n",
              " \"Mi Colored Band WIll Be Release on 17th September let's Take a look it's All Feature with Next Web News… https://t.co/Zou6Ys18RF\",\n",
              " '#MiBand4 in India to launch on THIS date\\n\\nhttps://t.co/rKlbLcR5bG',\n",
              " 'Got a @Xiaomi #MiBand4 from @TakasSriLanka .\\n\\nSo far, so good. https://t.co/2fRMlmToJZ',\n",
              " '#MiBand4 in India to launch on THIS date \\n\\nhttps://t.co/8fyAUembJA',\n",
              " 'Xiaomi Mi TV with 65-inch 4K OLED display,Mi Band 4 to launch in India on 17th September.\\n#Xiaomi #MiTV… https://t.co/hBDOKIJuga',\n",
              " '@SupMFans @banggood @Xiaomi @XiaomiNigeria The Xiaomi #MiBand4 is a perfect fitness partner.',\n",
              " 'Finally MI Band 4 India Launching On 17th September 🔥\\n.\\n.\\nComment your thoughts in comment below ⬇️\\n.\\n.\\n.\\nFollow ➡️… https://t.co/UX4xFoJBhx',\n",
              " '@manukumarjain @XiaomiIndia @SnehaTainwala @laurelsudeep @iamdu409 @PayWithMi @RedmiIndia Congratulations to all, C… https://t.co/n1GnlfZLR4',\n",
              " '@manukumarjain @XiaomiIndia so excited sir but bass price sahi rakhna #MiBand4',\n",
              " '#MiBand4 vs #MiBand3 | @itsmeFSL compares the changes in the new #Xiaomi fitness tracker\\nhttps://t.co/OF7LwNlkdh',\n",
              " 'Welcome to the family ! \\U0001f929 9/10 for redmi airdots and 10/10 for miband 4 😍 really enjoying the bass when playing… https://t.co/ztGPfn2ogg',\n",
              " 'Check #Xiaomi #MiBand4 features and expected price ahead of the India launch https://t.co/XNzVzeTRf4',\n",
              " '@manukumarjain @MiTVIndia #MiTV #MiBand4 #SmarterLiving\\nThe price and quality is unmatched',\n",
              " 'Xiaomi Mi TV with 65-inch 4K OLED display to launch in India on September 17\\n\\n#Xiaomi #MiTV #SmarterLiving #Redmi… https://t.co/lQZIVP44J5',\n",
              " '#Xiaomi #Mi Band 4 to launch in India on September 17 https://t.co/UhMbctgJH0 #Above #news #miband #miband4',\n",
              " '@manukumarjain @MiTVIndia Also, Thanks for #MiBand4 on 17 sep.',\n",
              " '#Xiaomi #MiBand4 launching in India on Sept 17. https://t.co/8QNM3ABUqi',\n",
              " '@manukumarjain @XiaomiIndia @SnehaTainwala @laurelsudeep @iamdu409 @PayWithMi @RedmiIndia So it is the another way… https://t.co/k2uHUXrAPU',\n",
              " 'Miband 4 to be available via https://t.co/sRrqAlPcSy and https://t.co/iCJVZPNOCV ( later may be on… https://t.co/Y8mKBZgsN3',\n",
              " 'Xiaomi’s #MiBand4 is expected to arrive on 17 September. Let’s just hope that when it arrives, it’s as reasonably p… https://t.co/3yc77MEhro',\n",
              " \"Xiaomi's #MiBand4 with 0.95-inch Amoled color touch screen display to launch in India on 17th September to be avail… https://t.co/B6xxkMVImX\",\n",
              " 'After much speculation and delay, the launch of Xiaomi’s #MiBand4 in India finally has a date.\\n\\n#DCTech\\nhttps://t.co/4pzUl0ozTR',\n",
              " 'Hence Confirmed #MiBand4 #Amazon https://t.co/JzhiPzu8ca',\n",
              " \"Xiaomi's MiBand4 with 0.95-inch Amoled color touch screen display is going to launch in India on 17th September to… https://t.co/3soUo4YZRL\",\n",
              " 'With so many mobile phones launched this year, their is another big announcement for #MiBand4 launching on 17th Sep… https://t.co/PFiedF1X1c',\n",
              " '🔥 Mi Smart Band 4 Launch on 17th September | #MiBand4\\n👉 https://t.co/iVlUIhDC8n https://t.co/CxRwXYPA2i',\n",
              " \"Xiaomi's MiBand4 with 0.95-inch Amoled color touch screen display is going to launch in India on 17th September to… https://t.co/wm9OqiBUyg\",\n",
              " \"Xiaomi's #MiBand4 with 0.95-inch Amoled color touch screen display to launch in India on 17th September to be avail… https://t.co/UGvDDdv066\",\n",
              " '#MiBand4 teased to launch on 17th Sept in India. #amazonIN https://t.co/NBQo9SaDZs https://t.co/wpjSTMlVvU',\n",
              " '#MiBand4 launch 17th Sep\\n\\n#mismartband4 https://t.co/nR2PX8LcEO']"
            ]
          },
          "metadata": {
            "tags": []
          },
          "execution_count": 27
        }
      ]
    },
    {
      "cell_type": "code",
      "metadata": {
        "id": "jHAguJrxc2K_",
        "colab_type": "code",
        "colab": {}
      },
      "source": [
        "# Assignment"
      ],
      "execution_count": 0,
      "outputs": []
    },
    {
      "cell_type": "code",
      "metadata": {
        "id": "LioLfeYva3J6",
        "colab_type": "code",
        "outputId": "95259005-086d-434e-8a85-b9818c09fcbf",
        "colab": {
          "base_uri": "https://localhost:8080/",
          "height": 211
        }
      },
      "source": [
        "# Pull tweets containing both “watching” and “now”\n",
        "tweets = tw.Cursor(api.search, q='watching now-filter:retweets',lang = 'en', since = '2019-04-01').items(10)\n",
        "tweets_text = [tweet.text for tweet in tweets]\n",
        "tweets_text"
      ],
      "execution_count": 0,
      "outputs": [
        {
          "output_type": "execute_result",
          "data": {
            "text/plain": [
              "['They can no longer be trusted to report the news.  The rags they print are a waste of paper and the TV and radio as… https://t.co/prcDLePlVF',\n",
              " 'Don’t know why I ever stopped watching #SnowFallFX. Story really starts to pick up when they introduce crack. Im hooked now.',\n",
              " '@nin_kyou *Higashi was busy drying his fluffy hair with the towel, he looks a tad bit better now that he showered..… https://t.co/OTRO6aQNSV',\n",
              " 'Lol @hulu  been watching the same TV show for the last 6 hours and now all of a sudden its \"not included in my subs… https://t.co/b06cOnSOaq',\n",
              " \"Well, shit. I started watching #unbelievablenetflix and now I can't stop and it's 1:30. Gonna be a late night.\",\n",
              " 'Now watching pyar=dosti',\n",
              " 'Watching this right now and remembering when I was assaulted. #unbelievablenetflix',\n",
              " \"Stg I started watching snowfall season 3 episode 1... now I'm tryna watch season 1 and 2 😂\",\n",
              " 'It’s gonna be nice when I’m in my 60s watching all y’all die from your organs failing due to all that alcohol consumption y’all be doing now',\n",
              " 'what ep are u on? i feel like you’ve been watching aot all day lol. it’s a good anime to binge 😊 — when i started t… https://t.co/docroWDkZh']"
            ]
          },
          "metadata": {
            "tags": []
          },
          "execution_count": 29
        }
      ]
    },
    {
      "cell_type": "code",
      "metadata": {
        "id": "RVPIfZPZcxqU",
        "colab_type": "code",
        "outputId": "f9359535-8f41-4491-d39b-f5c233645fd6",
        "colab": {
          "base_uri": "https://localhost:8080/",
          "height": 211
        }
      },
      "source": [
        "# Pull tweets containing “flight” and with a negative attitude\n",
        "tweets = tw.Cursor(api.search, q='flight :( -filter:retweets',lang = 'en', since = '2019-04-01').items(10)\n",
        "tweets_text = [tweet.text for tweet in tweets]\n",
        "tweets_text"
      ],
      "execution_count": 0,
      "outputs": [
        {
          "output_type": "execute_result",
          "data": {
            "text/plain": [
              "['OMG CHANYEOLIE PLEASE REST :((. HAVE A SAFE FLIGHT \\n#EXO @weareoneEXO https://t.co/HDyOeDB35m',\n",
              " 'I gotta flight to catch at 6 :(((',\n",
              " '.@AmericanAir My birthday trip was almost ruined due to a delay flight. I was downgraded on my new flight :(',\n",
              " \"@love_seok its only an hours flight away from me I'm devastated :((((((((\",\n",
              " 'i guess the boys will be working during chuseok holidays :-( have a safe flight, baby! https://t.co/jm14tM9oGi',\n",
              " '@gsnedders Ugh :(\\n\\nhave a nice flight too! :)',\n",
              " 'flight againn :((( keep safe loveee https://t.co/yp05uhugzp',\n",
              " '@JetBlue got second degree burn from the hot towels you handed out :( if flight attendants need prongs to hand out,… https://t.co/EfuPbceK2h',\n",
              " '@daddehtooru God I wish :( no, it’s partial flight payment, $$$ for japan and my money for rent and stuff the next two weeks',\n",
              " '@airvistara First time and hopefully last time disappointed in you. For UK 731 flight , half an hour late departure… https://t.co/jdnlns0Yb0']"
            ]
          },
          "metadata": {
            "tags": []
          },
          "execution_count": 30
        }
      ]
    },
    {
      "cell_type": "code",
      "metadata": {
        "id": "YEUZcZuydPtY",
        "colab_type": "code",
        "outputId": "05ab2192-28fb-485e-fff3-870f37ea9cb1",
        "colab": {
          "base_uri": "https://localhost:8080/",
          "height": 55
        }
      },
      "source": [
        "# Methods for Followers\n",
        "api.create_friendship(\"realpython\")"
      ],
      "execution_count": 0,
      "outputs": [
        {
          "output_type": "execute_result",
          "data": {
            "text/plain": [
              "User(_api=<tweepy.api.API object at 0x7fe759d3cda0>, _json={'id': 745911914, 'id_str': '745911914', 'name': 'Real Python', 'screen_name': 'realpython', 'location': '', 'description': 'Python developer resources: #Python tutorials, video courses, sample projects, news, and more!', 'url': 'https://t.co/TyrG6KBLOG', 'entities': {'url': {'urls': [{'url': 'https://t.co/TyrG6KBLOG', 'expanded_url': 'http://realpython.com', 'display_url': 'realpython.com', 'indices': [0, 23]}]}, 'description': {'urls': []}}, 'protected': False, 'followers_count': 53647, 'friends_count': 118, 'listed_count': 1766, 'created_at': 'Wed Aug 08 20:44:42 +0000 2012', 'favourites_count': 50129, 'utc_offset': None, 'time_zone': None, 'geo_enabled': False, 'verified': False, 'statuses_count': 36115, 'lang': None, 'status': {'created_at': 'Sat Sep 14 03:00:08 +0000 2019', 'id': 1172706568682561536, 'id_str': '1172706568682561536', 'text': 'Tracking Progress in Natural Language Processing #python https://t.co/uVzNCYqLqp', 'truncated': False, 'entities': {'hashtags': [{'text': 'python', 'indices': [49, 56]}], 'symbols': [], 'user_mentions': [], 'urls': [{'url': 'https://t.co/uVzNCYqLqp', 'expanded_url': 'https://nlpprogress.com/', 'display_url': 'nlpprogress.com', 'indices': [57, 80]}]}, 'source': '<a href=\"https://socialbee.io/\" rel=\"nofollow\">SocialBee.io v2</a>', 'in_reply_to_status_id': None, 'in_reply_to_status_id_str': None, 'in_reply_to_user_id': None, 'in_reply_to_user_id_str': None, 'in_reply_to_screen_name': None, 'geo': None, 'coordinates': None, 'place': None, 'contributors': None, 'is_quote_status': False, 'retweet_count': 6, 'favorite_count': 14, 'favorited': False, 'retweeted': False, 'possibly_sensitive': False, 'lang': 'en'}, 'contributors_enabled': False, 'is_translator': False, 'is_translation_enabled': False, 'profile_background_color': 'C0DEED', 'profile_background_image_url': 'http://abs.twimg.com/images/themes/theme1/bg.png', 'profile_background_image_url_https': 'https://abs.twimg.com/images/themes/theme1/bg.png', 'profile_background_tile': False, 'profile_image_url': 'http://pbs.twimg.com/profile_images/952818577719091200/rBCQPkA9_normal.jpg', 'profile_image_url_https': 'https://pbs.twimg.com/profile_images/952818577719091200/rBCQPkA9_normal.jpg', 'profile_banner_url': 'https://pbs.twimg.com/profile_banners/745911914/1528248000', 'profile_link_color': '1DA1F2', 'profile_sidebar_border_color': 'C0DEED', 'profile_sidebar_fill_color': 'DDEEF6', 'profile_text_color': '333333', 'profile_use_background_image': True, 'has_extended_profile': False, 'default_profile': True, 'default_profile_image': False, 'following': False, 'follow_request_sent': False, 'notifications': False, 'muting': False, 'translator_type': 'none'}, id=745911914, id_str='745911914', name='Real Python', screen_name='realpython', location='', description='Python developer resources: #Python tutorials, video courses, sample projects, news, and more!', url='https://t.co/TyrG6KBLOG', entities={'url': {'urls': [{'url': 'https://t.co/TyrG6KBLOG', 'expanded_url': 'http://realpython.com', 'display_url': 'realpython.com', 'indices': [0, 23]}]}, 'description': {'urls': []}}, protected=False, followers_count=53647, friends_count=118, listed_count=1766, created_at=datetime.datetime(2012, 8, 8, 20, 44, 42), favourites_count=50129, utc_offset=None, time_zone=None, geo_enabled=False, verified=False, statuses_count=36115, lang=None, status=Status(_api=<tweepy.api.API object at 0x7fe759d3cda0>, _json={'created_at': 'Sat Sep 14 03:00:08 +0000 2019', 'id': 1172706568682561536, 'id_str': '1172706568682561536', 'text': 'Tracking Progress in Natural Language Processing #python https://t.co/uVzNCYqLqp', 'truncated': False, 'entities': {'hashtags': [{'text': 'python', 'indices': [49, 56]}], 'symbols': [], 'user_mentions': [], 'urls': [{'url': 'https://t.co/uVzNCYqLqp', 'expanded_url': 'https://nlpprogress.com/', 'display_url': 'nlpprogress.com', 'indices': [57, 80]}]}, 'source': '<a href=\"https://socialbee.io/\" rel=\"nofollow\">SocialBee.io v2</a>', 'in_reply_to_status_id': None, 'in_reply_to_status_id_str': None, 'in_reply_to_user_id': None, 'in_reply_to_user_id_str': None, 'in_reply_to_screen_name': None, 'geo': None, 'coordinates': None, 'place': None, 'contributors': None, 'is_quote_status': False, 'retweet_count': 6, 'favorite_count': 14, 'favorited': False, 'retweeted': False, 'possibly_sensitive': False, 'lang': 'en'}, created_at=datetime.datetime(2019, 9, 14, 3, 0, 8), id=1172706568682561536, id_str='1172706568682561536', text='Tracking Progress in Natural Language Processing #python https://t.co/uVzNCYqLqp', truncated=False, entities={'hashtags': [{'text': 'python', 'indices': [49, 56]}], 'symbols': [], 'user_mentions': [], 'urls': [{'url': 'https://t.co/uVzNCYqLqp', 'expanded_url': 'https://nlpprogress.com/', 'display_url': 'nlpprogress.com', 'indices': [57, 80]}]}, source='SocialBee.io v2', source_url='https://socialbee.io/', in_reply_to_status_id=None, in_reply_to_status_id_str=None, in_reply_to_user_id=None, in_reply_to_user_id_str=None, in_reply_to_screen_name=None, geo=None, coordinates=None, place=None, contributors=None, is_quote_status=False, retweet_count=6, favorite_count=14, favorited=False, retweeted=False, possibly_sensitive=False, lang='en'), contributors_enabled=False, is_translator=False, is_translation_enabled=False, profile_background_color='C0DEED', profile_background_image_url='http://abs.twimg.com/images/themes/theme1/bg.png', profile_background_image_url_https='https://abs.twimg.com/images/themes/theme1/bg.png', profile_background_tile=False, profile_image_url='http://pbs.twimg.com/profile_images/952818577719091200/rBCQPkA9_normal.jpg', profile_image_url_https='https://pbs.twimg.com/profile_images/952818577719091200/rBCQPkA9_normal.jpg', profile_banner_url='https://pbs.twimg.com/profile_banners/745911914/1528248000', profile_link_color='1DA1F2', profile_sidebar_border_color='C0DEED', profile_sidebar_fill_color='DDEEF6', profile_text_color='333333', profile_use_background_image=True, has_extended_profile=False, default_profile=True, default_profile_image=False, following=False, follow_request_sent=False, notifications=False, muting=False, translator_type='none')"
            ]
          },
          "metadata": {
            "tags": []
          },
          "execution_count": 45
        }
      ]
    },
    {
      "cell_type": "code",
      "metadata": {
        "id": "s8jbckKAkbmj",
        "colab_type": "code",
        "outputId": "a8656e10-355c-4dc5-baf1-8386c4dcf466",
        "colab": {
          "base_uri": "https://localhost:8080/",
          "height": 55
        }
      },
      "source": [
        "# Methods to update Your profile\n",
        "api.update_profile(description=\"AI Vision | Poetic Thought | Yogi\")"
      ],
      "execution_count": 0,
      "outputs": [
        {
          "output_type": "execute_result",
          "data": {
            "text/plain": [
              "User(_api=<tweepy.api.API object at 0x7fe759d3cda0>, _json={'id': 2467536254, 'id_str': '2467536254', 'name': 'Ashish', 'screen_name': 'AshishCJha', 'location': 'Bengaluru, India', 'profile_location': {'id': '1b8680cd52a711cb', 'url': 'https://api.twitter.com/1.1/geo/id/1b8680cd52a711cb.json', 'place_type': 'unknown', 'name': 'Bengaluru, India', 'full_name': 'Bengaluru, India', 'country_code': '', 'country': '', 'contained_within': [], 'bounding_box': None, 'attributes': {}}, 'description': 'AI Vision | Poetic Thought | Yogi', 'url': None, 'entities': {'description': {'urls': []}}, 'protected': False, 'followers_count': 93, 'friends_count': 60, 'listed_count': 4, 'created_at': 'Mon Apr 28 10:22:00 +0000 2014', 'favourites_count': 52, 'utc_offset': None, 'time_zone': None, 'geo_enabled': True, 'verified': False, 'statuses_count': 188, 'lang': None, 'status': {'created_at': 'Sat Sep 14 05:31:48 +0000 2019', 'id': 1172744734974062597, 'id_str': '1172744734974062597', 'text': 'Sample tweet using #Python and #Tweepy packages', 'truncated': False, 'entities': {'hashtags': [{'text': 'Python', 'indices': [19, 26]}, {'text': 'Tweepy', 'indices': [31, 38]}], 'symbols': [], 'user_mentions': [], 'urls': []}, 'source': '<a href=\"https://github.com/AshishCJha\" rel=\"nofollow\">ashishchandrajhatweets</a>', 'in_reply_to_status_id': None, 'in_reply_to_status_id_str': None, 'in_reply_to_user_id': None, 'in_reply_to_user_id_str': None, 'in_reply_to_screen_name': None, 'geo': None, 'coordinates': None, 'place': None, 'contributors': None, 'is_quote_status': False, 'retweet_count': 0, 'favorite_count': 0, 'favorited': False, 'retweeted': False, 'lang': 'en'}, 'contributors_enabled': False, 'is_translator': False, 'is_translation_enabled': False, 'profile_background_color': 'C0DEED', 'profile_background_image_url': 'http://abs.twimg.com/images/themes/theme1/bg.png', 'profile_background_image_url_https': 'https://abs.twimg.com/images/themes/theme1/bg.png', 'profile_background_tile': False, 'profile_image_url': 'http://pbs.twimg.com/profile_images/806792965414760450/r-VZZ68Y_normal.jpg', 'profile_image_url_https': 'https://pbs.twimg.com/profile_images/806792965414760450/r-VZZ68Y_normal.jpg', 'profile_banner_url': 'https://pbs.twimg.com/profile_banners/2467536254/1469446091', 'profile_link_color': '1DA1F2', 'profile_sidebar_border_color': 'C0DEED', 'profile_sidebar_fill_color': 'DDEEF6', 'profile_text_color': '333333', 'profile_use_background_image': True, 'has_extended_profile': False, 'default_profile': True, 'default_profile_image': False, 'following': False, 'follow_request_sent': False, 'notifications': False, 'translator_type': 'none'}, id=2467536254, id_str='2467536254', name='Ashish', screen_name='AshishCJha', location='Bengaluru, India', profile_location={'id': '1b8680cd52a711cb', 'url': 'https://api.twitter.com/1.1/geo/id/1b8680cd52a711cb.json', 'place_type': 'unknown', 'name': 'Bengaluru, India', 'full_name': 'Bengaluru, India', 'country_code': '', 'country': '', 'contained_within': [], 'bounding_box': None, 'attributes': {}}, description='AI Vision | Poetic Thought | Yogi', url=None, entities={'description': {'urls': []}}, protected=False, followers_count=93, friends_count=60, listed_count=4, created_at=datetime.datetime(2014, 4, 28, 10, 22), favourites_count=52, utc_offset=None, time_zone=None, geo_enabled=True, verified=False, statuses_count=188, lang=None, status=Status(_api=<tweepy.api.API object at 0x7fe759d3cda0>, _json={'created_at': 'Sat Sep 14 05:31:48 +0000 2019', 'id': 1172744734974062597, 'id_str': '1172744734974062597', 'text': 'Sample tweet using #Python and #Tweepy packages', 'truncated': False, 'entities': {'hashtags': [{'text': 'Python', 'indices': [19, 26]}, {'text': 'Tweepy', 'indices': [31, 38]}], 'symbols': [], 'user_mentions': [], 'urls': []}, 'source': '<a href=\"https://github.com/AshishCJha\" rel=\"nofollow\">ashishchandrajhatweets</a>', 'in_reply_to_status_id': None, 'in_reply_to_status_id_str': None, 'in_reply_to_user_id': None, 'in_reply_to_user_id_str': None, 'in_reply_to_screen_name': None, 'geo': None, 'coordinates': None, 'place': None, 'contributors': None, 'is_quote_status': False, 'retweet_count': 0, 'favorite_count': 0, 'favorited': False, 'retweeted': False, 'lang': 'en'}, created_at=datetime.datetime(2019, 9, 14, 5, 31, 48), id=1172744734974062597, id_str='1172744734974062597', text='Sample tweet using #Python and #Tweepy packages', truncated=False, entities={'hashtags': [{'text': 'Python', 'indices': [19, 26]}, {'text': 'Tweepy', 'indices': [31, 38]}], 'symbols': [], 'user_mentions': [], 'urls': []}, source='ashishchandrajhatweets', source_url='https://github.com/AshishCJha', in_reply_to_status_id=None, in_reply_to_status_id_str=None, in_reply_to_user_id=None, in_reply_to_user_id_str=None, in_reply_to_screen_name=None, geo=None, coordinates=None, place=None, contributors=None, is_quote_status=False, retweet_count=0, favorite_count=0, favorited=False, retweeted=False, lang='en'), contributors_enabled=False, is_translator=False, is_translation_enabled=False, profile_background_color='C0DEED', profile_background_image_url='http://abs.twimg.com/images/themes/theme1/bg.png', profile_background_image_url_https='https://abs.twimg.com/images/themes/theme1/bg.png', profile_background_tile=False, profile_image_url='http://pbs.twimg.com/profile_images/806792965414760450/r-VZZ68Y_normal.jpg', profile_image_url_https='https://pbs.twimg.com/profile_images/806792965414760450/r-VZZ68Y_normal.jpg', profile_banner_url='https://pbs.twimg.com/profile_banners/2467536254/1469446091', profile_link_color='1DA1F2', profile_sidebar_border_color='C0DEED', profile_sidebar_fill_color='DDEEF6', profile_text_color='333333', profile_use_background_image=True, has_extended_profile=False, default_profile=True, default_profile_image=False, following=False, follow_request_sent=False, notifications=False, translator_type='none')"
            ]
          },
          "metadata": {
            "tags": []
          },
          "execution_count": 47
        }
      ]
    },
    {
      "cell_type": "code",
      "metadata": {
        "id": "5LoE8rLWdnTX",
        "colab_type": "code",
        "outputId": "00e7e606-60e1-45e6-8fd2-cec5f091af85",
        "colab": {
          "base_uri": "https://localhost:8080/",
          "height": 505
        }
      },
      "source": [
        "# Method for user timeline\n",
        "#These methods deal with reading tweets, mentions, and retweets from your timeline or any other user’s timeline, as long as it’s public.\n",
        "timeline = api.home_timeline()\n",
        "for tweet in timeline:\n",
        "    print(f\"{tweet.user.name} said {tweet.text}\")"
      ],
      "execution_count": 0,
      "outputs": [
        {
          "output_type": "stream",
          "text": [
            "Narendra Modi said There would also be an e-auction of the gifts and mementos. The proceeds from the auction will be devoted towards t… https://t.co/ioYm3fzqpe\n",
            "Narendra Modi said Continuing a practice I have always believed in! \n",
            "\n",
            "All those gifts and mementos I have received in the last one yea… https://t.co/lgW1xmyVl6\n",
            "Madhumita Phukan said RT @singh_mandavi: Beautiful way to end the session Nasreen.....Once an IBMer...always an IBMer! #SheLeadswithIBM @Cheeyanna @sandeep_2u @r…\n",
            "Ben Landis said For example, we can elevate people doing gun ownership the right way.\n",
            "\n",
            "If you go through this training, and pass al… https://t.co/vF94RZQ8xG\n",
            "Ben Landis said Idea: it will be easier to pass new federal gun legislation if we can find a way of giving something to gun owners… https://t.co/Pc7TMauN0y\n",
            "Ashish said Sample tweet using #Python and #Tweepy packages\n",
            "Genelia Deshmukh said SuperStar Bhaiya @AmitV_Deshmukh 👏👏👏 https://t.co/hOYJLb6axn\n",
            "Narendra Modi said हिंदी दिवस पर आप सभी को बहुत-बहुत बधाई। भाषा की सरलता, सहजता और शालीनता अभिव्यक्ति को सार्थकता प्रदान करती है। हिं… https://t.co/FcVmkaZw89\n",
            "Rama Vedashree said Inviting Technologists and specially Young Innovators and Researchers https://t.co/MOaQF3YYF0\n",
            "Elon Musk said Tesla commercial solar ordering now live at https://t.co/sCkn87vMa9!\n",
            "Sandeep Giri said Only few days left to close this course. \n",
            "\n",
            "If you are a professional or faculty, this course is almost free for you… https://t.co/alnjqoic9D\n",
            "Avinash Kaushik said This is a hard strategic analytics balance: Solve for today, the anticipated future, or the new unfamiliar but like… https://t.co/tTGxhZxkr7\n",
            "BengaluruCityPolice said RT @DCPSEBCP: Conducted meeting with the residents of Venkatapura within Madiwala station limits. Heard their complaints. Had a healthy dia…\n",
            "Narendra Modi said On his Jayanti, I bow to the venerable Sree Narayana Guru. His rich thoughts, noble ideals and emphasis on social h… https://t.co/IREeJcva9u\n",
            "BengaluruCityPolice said RT @vvpuramtrfps: ಸಂಚಾರ ನಿಯಮಗಳನ್ನು ಪಾಲಿಸಿ, ಹಣ ಉಳಿಸಿ.\n",
            "AVOID TRAFFIC VIOLATION, SAVE MONEY https://t.co/0ddrQwcKdC\n",
            "BengaluruCityPolice said RT @bialtrafficps: ಕಿರುತೆರೆ ನಟ ಡಾ|| ದೇವನಹಳ್ಳಿ ದೇವರಾಜ್ ರವರು ಸಂಚಾರ ನಿಯಮಗಳ ಬಗ್ಗೆ ತಮ್ಮ ಅನಿಸಿಕೆ ವ್ಯಕ್ತಪಡಿಸಿರುವುದು. https://t.co/ETZoQF70BO\n",
            "BengaluruCityPolice said RT @jointcptraffic: https://t.co/bzjM41kJke\n",
            "PMO India said The capsizing of a boat at Khatlapura Ghat in Bhopal is saddening. In this hour of grief, our thoughts are with the… https://t.co/4EOoYrGdLy\n",
            "Madhumita Phukan said RT @IBMNews: At the Frankfurt Motor Show, IBM CEO Ginni Rometty spoke about the future of the auto industry--and what will matter to consum…\n",
            "Genelia Deshmukh said Thank You so much @khushsundar ji https://t.co/21c2HDCKnQ\n"
          ],
          "name": "stdout"
        }
      ]
    },
    {
      "cell_type": "code",
      "metadata": {
        "id": "BmbpU3OOfCGT",
        "colab_type": "code",
        "outputId": "5d493322-f838-47e3-9a66-c295d019d972",
        "colab": {
          "base_uri": "https://localhost:8080/",
          "height": 72
        }
      },
      "source": [
        "# Methods for Likes\n",
        "# Using these API methods, you can mark any tweet as Liked or remove the Like mark if it was already added.\n",
        "tweets = api.home_timeline(count=1)\n",
        "tweet = tweets[0]\n",
        "print(f\"Liking tweet {tweet.id} of {tweet.author.name}\")\n",
        "api.create_favorite(tweet.id)"
      ],
      "execution_count": 0,
      "outputs": [
        {
          "output_type": "stream",
          "text": [
            "Liking tweet 1172759282187681792 of Narendra Modi\n"
          ],
          "name": "stdout"
        },
        {
          "output_type": "execute_result",
          "data": {
            "text/plain": [
              "Status(_api=<tweepy.api.API object at 0x7fe759d3cda0>, _json={'created_at': 'Sat Sep 14 06:29:36 +0000 2019', 'id': 1172759282187681792, 'id_str': '1172759282187681792', 'text': 'There would also be an e-auction of the gifts and mementos. The proceeds from the auction will be devoted towards t… https://t.co/ioYm3fzqpe', 'truncated': True, 'entities': {'hashtags': [], 'symbols': [], 'user_mentions': [], 'urls': [{'url': 'https://t.co/ioYm3fzqpe', 'expanded_url': 'https://twitter.com/i/web/status/1172759282187681792', 'display_url': 'twitter.com/i/web/status/1…', 'indices': [117, 140]}]}, 'source': '<a href=\"http://twitter.com/download/iphone\" rel=\"nofollow\">Twitter for iPhone</a>', 'in_reply_to_status_id': 1172759206740549632, 'in_reply_to_status_id_str': '1172759206740549632', 'in_reply_to_user_id': 18839785, 'in_reply_to_user_id_str': '18839785', 'in_reply_to_screen_name': 'narendramodi', 'user': {'id': 18839785, 'id_str': '18839785', 'name': 'Narendra Modi', 'screen_name': 'narendramodi', 'location': 'India', 'description': 'Prime Minister of India', 'url': 'https://t.co/zzYhUUfq6i', 'entities': {'url': {'urls': [{'url': 'https://t.co/zzYhUUfq6i', 'expanded_url': 'http://www.narendramodi.in', 'display_url': 'narendramodi.in', 'indices': [0, 23]}]}, 'description': {'urls': []}}, 'protected': False, 'followers_count': 50072840, 'friends_count': 2228, 'listed_count': 24441, 'created_at': 'Sat Jan 10 17:18:56 +0000 2009', 'favourites_count': 0, 'utc_offset': None, 'time_zone': None, 'geo_enabled': False, 'verified': True, 'statuses_count': 24536, 'lang': None, 'contributors_enabled': False, 'is_translator': False, 'is_translation_enabled': False, 'profile_background_color': 'F4EDD4', 'profile_background_image_url': 'http://abs.twimg.com/images/themes/theme1/bg.png', 'profile_background_image_url_https': 'https://abs.twimg.com/images/themes/theme1/bg.png', 'profile_background_tile': False, 'profile_image_url': 'http://pbs.twimg.com/profile_images/1134082549041393672/QbihPzrL_normal.png', 'profile_image_url_https': 'https://pbs.twimg.com/profile_images/1134082549041393672/QbihPzrL_normal.png', 'profile_banner_url': 'https://pbs.twimg.com/profile_banners/18839785/1559221352', 'profile_link_color': '4E7096', 'profile_sidebar_border_color': 'FFFFFF', 'profile_sidebar_fill_color': 'D5DFED', 'profile_text_color': '233863', 'profile_use_background_image': True, 'has_extended_profile': True, 'default_profile': False, 'default_profile_image': False, 'following': True, 'follow_request_sent': False, 'notifications': False, 'translator_type': 'regular'}, 'geo': None, 'coordinates': None, 'place': None, 'contributors': None, 'is_quote_status': False, 'retweet_count': 244, 'favorite_count': 830, 'favorited': True, 'retweeted': False, 'possibly_sensitive': False, 'lang': 'en'}, created_at=datetime.datetime(2019, 9, 14, 6, 29, 36), id=1172759282187681792, id_str='1172759282187681792', text='There would also be an e-auction of the gifts and mementos. The proceeds from the auction will be devoted towards t… https://t.co/ioYm3fzqpe', truncated=True, entities={'hashtags': [], 'symbols': [], 'user_mentions': [], 'urls': [{'url': 'https://t.co/ioYm3fzqpe', 'expanded_url': 'https://twitter.com/i/web/status/1172759282187681792', 'display_url': 'twitter.com/i/web/status/1…', 'indices': [117, 140]}]}, source='Twitter for iPhone', source_url='http://twitter.com/download/iphone', in_reply_to_status_id=1172759206740549632, in_reply_to_status_id_str='1172759206740549632', in_reply_to_user_id=18839785, in_reply_to_user_id_str='18839785', in_reply_to_screen_name='narendramodi', author=User(_api=<tweepy.api.API object at 0x7fe759d3cda0>, _json={'id': 18839785, 'id_str': '18839785', 'name': 'Narendra Modi', 'screen_name': 'narendramodi', 'location': 'India', 'description': 'Prime Minister of India', 'url': 'https://t.co/zzYhUUfq6i', 'entities': {'url': {'urls': [{'url': 'https://t.co/zzYhUUfq6i', 'expanded_url': 'http://www.narendramodi.in', 'display_url': 'narendramodi.in', 'indices': [0, 23]}]}, 'description': {'urls': []}}, 'protected': False, 'followers_count': 50072840, 'friends_count': 2228, 'listed_count': 24441, 'created_at': 'Sat Jan 10 17:18:56 +0000 2009', 'favourites_count': 0, 'utc_offset': None, 'time_zone': None, 'geo_enabled': False, 'verified': True, 'statuses_count': 24536, 'lang': None, 'contributors_enabled': False, 'is_translator': False, 'is_translation_enabled': False, 'profile_background_color': 'F4EDD4', 'profile_background_image_url': 'http://abs.twimg.com/images/themes/theme1/bg.png', 'profile_background_image_url_https': 'https://abs.twimg.com/images/themes/theme1/bg.png', 'profile_background_tile': False, 'profile_image_url': 'http://pbs.twimg.com/profile_images/1134082549041393672/QbihPzrL_normal.png', 'profile_image_url_https': 'https://pbs.twimg.com/profile_images/1134082549041393672/QbihPzrL_normal.png', 'profile_banner_url': 'https://pbs.twimg.com/profile_banners/18839785/1559221352', 'profile_link_color': '4E7096', 'profile_sidebar_border_color': 'FFFFFF', 'profile_sidebar_fill_color': 'D5DFED', 'profile_text_color': '233863', 'profile_use_background_image': True, 'has_extended_profile': True, 'default_profile': False, 'default_profile_image': False, 'following': True, 'follow_request_sent': False, 'notifications': False, 'translator_type': 'regular'}, id=18839785, id_str='18839785', name='Narendra Modi', screen_name='narendramodi', location='India', description='Prime Minister of India', url='https://t.co/zzYhUUfq6i', entities={'url': {'urls': [{'url': 'https://t.co/zzYhUUfq6i', 'expanded_url': 'http://www.narendramodi.in', 'display_url': 'narendramodi.in', 'indices': [0, 23]}]}, 'description': {'urls': []}}, protected=False, followers_count=50072840, friends_count=2228, listed_count=24441, created_at=datetime.datetime(2009, 1, 10, 17, 18, 56), favourites_count=0, utc_offset=None, time_zone=None, geo_enabled=False, verified=True, statuses_count=24536, lang=None, contributors_enabled=False, is_translator=False, is_translation_enabled=False, profile_background_color='F4EDD4', profile_background_image_url='http://abs.twimg.com/images/themes/theme1/bg.png', profile_background_image_url_https='https://abs.twimg.com/images/themes/theme1/bg.png', profile_background_tile=False, profile_image_url='http://pbs.twimg.com/profile_images/1134082549041393672/QbihPzrL_normal.png', profile_image_url_https='https://pbs.twimg.com/profile_images/1134082549041393672/QbihPzrL_normal.png', profile_banner_url='https://pbs.twimg.com/profile_banners/18839785/1559221352', profile_link_color='4E7096', profile_sidebar_border_color='FFFFFF', profile_sidebar_fill_color='D5DFED', profile_text_color='233863', profile_use_background_image=True, has_extended_profile=True, default_profile=False, default_profile_image=False, following=True, follow_request_sent=False, notifications=False, translator_type='regular'), user=User(_api=<tweepy.api.API object at 0x7fe759d3cda0>, _json={'id': 18839785, 'id_str': '18839785', 'name': 'Narendra Modi', 'screen_name': 'narendramodi', 'location': 'India', 'description': 'Prime Minister of India', 'url': 'https://t.co/zzYhUUfq6i', 'entities': {'url': {'urls': [{'url': 'https://t.co/zzYhUUfq6i', 'expanded_url': 'http://www.narendramodi.in', 'display_url': 'narendramodi.in', 'indices': [0, 23]}]}, 'description': {'urls': []}}, 'protected': False, 'followers_count': 50072840, 'friends_count': 2228, 'listed_count': 24441, 'created_at': 'Sat Jan 10 17:18:56 +0000 2009', 'favourites_count': 0, 'utc_offset': None, 'time_zone': None, 'geo_enabled': False, 'verified': True, 'statuses_count': 24536, 'lang': None, 'contributors_enabled': False, 'is_translator': False, 'is_translation_enabled': False, 'profile_background_color': 'F4EDD4', 'profile_background_image_url': 'http://abs.twimg.com/images/themes/theme1/bg.png', 'profile_background_image_url_https': 'https://abs.twimg.com/images/themes/theme1/bg.png', 'profile_background_tile': False, 'profile_image_url': 'http://pbs.twimg.com/profile_images/1134082549041393672/QbihPzrL_normal.png', 'profile_image_url_https': 'https://pbs.twimg.com/profile_images/1134082549041393672/QbihPzrL_normal.png', 'profile_banner_url': 'https://pbs.twimg.com/profile_banners/18839785/1559221352', 'profile_link_color': '4E7096', 'profile_sidebar_border_color': 'FFFFFF', 'profile_sidebar_fill_color': 'D5DFED', 'profile_text_color': '233863', 'profile_use_background_image': True, 'has_extended_profile': True, 'default_profile': False, 'default_profile_image': False, 'following': True, 'follow_request_sent': False, 'notifications': False, 'translator_type': 'regular'}, id=18839785, id_str='18839785', name='Narendra Modi', screen_name='narendramodi', location='India', description='Prime Minister of India', url='https://t.co/zzYhUUfq6i', entities={'url': {'urls': [{'url': 'https://t.co/zzYhUUfq6i', 'expanded_url': 'http://www.narendramodi.in', 'display_url': 'narendramodi.in', 'indices': [0, 23]}]}, 'description': {'urls': []}}, protected=False, followers_count=50072840, friends_count=2228, listed_count=24441, created_at=datetime.datetime(2009, 1, 10, 17, 18, 56), favourites_count=0, utc_offset=None, time_zone=None, geo_enabled=False, verified=True, statuses_count=24536, lang=None, contributors_enabled=False, is_translator=False, is_translation_enabled=False, profile_background_color='F4EDD4', profile_background_image_url='http://abs.twimg.com/images/themes/theme1/bg.png', profile_background_image_url_https='https://abs.twimg.com/images/themes/theme1/bg.png', profile_background_tile=False, profile_image_url='http://pbs.twimg.com/profile_images/1134082549041393672/QbihPzrL_normal.png', profile_image_url_https='https://pbs.twimg.com/profile_images/1134082549041393672/QbihPzrL_normal.png', profile_banner_url='https://pbs.twimg.com/profile_banners/18839785/1559221352', profile_link_color='4E7096', profile_sidebar_border_color='FFFFFF', profile_sidebar_fill_color='D5DFED', profile_text_color='233863', profile_use_background_image=True, has_extended_profile=True, default_profile=False, default_profile_image=False, following=True, follow_request_sent=False, notifications=False, translator_type='regular'), geo=None, coordinates=None, place=None, contributors=None, is_quote_status=False, retweet_count=244, favorite_count=830, favorited=True, retweeted=False, possibly_sensitive=False, lang='en')"
            ]
          },
          "metadata": {
            "tags": []
          },
          "execution_count": 35
        }
      ]
    },
    {
      "cell_type": "code",
      "metadata": {
        "id": "OpWhdH3Kfoil",
        "colab_type": "code",
        "outputId": "d266d4da-0c76-4685-9259-a2df7fdf1fcc",
        "colab": {
          "base_uri": "https://localhost:8080/",
          "height": 211
        }
      },
      "source": [
        "# Pull tweets containing “politics” with Tweets marked as potentially sensitive removed\n",
        "tweets = tw.Cursor(api.search, q= 'politics filter:safe' ,lang = 'en', since = '2019-04-01').items(10)\n",
        "tweets_text = [tweet.text for tweet in tweets]\n",
        "tweets_text"
      ],
      "execution_count": 0,
      "outputs": [
        {
          "output_type": "execute_result",
          "data": {
            "text/plain": [
              "['RT @CBartlett1963: Interior Department says it will temporarily block Democratic aides from official oversight trips - CNNPolitics https://…',\n",
              " 'RT @juliehinukeu: Cameron accuses Johnson and Gove of behaving appallingly over Brexit https://t.co/Sc9KixgDhZ',\n",
              " 'RT @PennyMidasRollo: #quote\"Britain to bypass Brussels..with mini deals with nations\"\\nMy guess is they\\'ll bundle all those side agreements…',\n",
              " 'RT @TylerDurden_: This is how Constructive Criticism should be\\n\\nThis is how Opposition party should expose the failures and Question govern…',\n",
              " 'RT @TylerDurden_: This is how Constructive Criticism should be\\n\\nThis is how Opposition party should expose the failures and Question govern…',\n",
              " '@MichaelHalila ££££ buys appearances...he will never give up the BP...and he basically gets a free ride in intervie… https://t.co/uMl34EvnHy',\n",
              " 'RT @joswinson: At the next election, people are going to tell you your only choice is between Boris Johnson or Jeremy Corbyn. It isn’t. The…',\n",
              " 'RT @CNN: President Trump made a three-tweet argument Friday morning about why he should not be impeached, touting what he said were his acc…',\n",
              " 'RT @LeftieStats: \"Jo Swinson has ruled out backing a Jeremy Corbyn-led government after a general election\"\\n\\nThe Lib Dems are going to supp…',\n",
              " \"RT @SharadYadavMP: Why PM doesn't speak on Rafale, promises made in 2014 &amp; other issues like destroying of our institutions, detailing d ec…\"]"
            ]
          },
          "metadata": {
            "tags": []
          },
          "execution_count": 36
        }
      ]
    },
    {
      "cell_type": "code",
      "metadata": {
        "id": "AQLKb6TDgHDV",
        "colab_type": "code",
        "outputId": "59afa015-6433-4a82-fbb0-5e67e975aa6a",
        "colab": {
          "base_uri": "https://localhost:8080/",
          "height": 211
        }
      },
      "source": [
        "# Pull tweets containing “puppy” and a Vine\n",
        "tweets = tw.Cursor(api.search, q= 'puppy filter:vine' ,lang = 'en', since = '2019-04-01').items(10)\n",
        "tweets_text = [tweet.text for tweet in tweets]\n",
        "tweets_text"
      ],
      "execution_count": 0,
      "outputs": [
        {
          "output_type": "execute_result",
          "data": {
            "text/plain": [
              "['Teaching a puppy to catch https://t.co/8BadhfJc1k',\n",
              " 'RT @veryimportant: “in the air tonight” puppy vine https://t.co/EquW85iPZs',\n",
              " 'RT @veryimportant: “in the air tonight” puppy vine https://t.co/EquW85iPZs',\n",
              " '“in the air tonight” puppy vine https://t.co/EquW85iPZs',\n",
              " 'Teaching a puppy to catch https://t.co/eRR7uyKRWv',\n",
              " 'Teaching a puppy to catch https://t.co/8BadhfJc1k',\n",
              " 'RT @lowkeylean2: 94: guard dog to puppy in .3 seconds \\n https://t.co/n1SjxkMSki',\n",
              " 'RT @lowkeylean2: 94: guard dog to puppy in .3 seconds \\n https://t.co/n1SjxkMSki',\n",
              " 'RT @LiveYourNow: Those ears!!\\n\\nNow of puppy cute!!\\n\\nhttps://t.co/DaDm5E12tr',\n",
              " 'RT @thepainterflynn: Puppy caught eating paper decides killing witness is the only way out. https://t.co/IZjEBkodMm']"
            ]
          },
          "metadata": {
            "tags": []
          },
          "execution_count": 39
        }
      ]
    },
    {
      "cell_type": "code",
      "metadata": {
        "id": "x_O_c2VbgaHu",
        "colab_type": "code",
        "outputId": "eb537043-3a7d-440a-d922-ef473d8fb7fe",
        "colab": {
          "base_uri": "https://localhost:8080/",
          "height": 211
        }
      },
      "source": [
        "# Pull tweets containing “traffic” and asking a question\n",
        "tweets = tw.Cursor(api.search, q= 'traffic ?' ,lang = 'en', since = '2019-04-01').items(10)\n",
        "tweets_text = [tweet.text for tweet in tweets]\n",
        "tweets_text"
      ],
      "execution_count": 0,
      "outputs": [
        {
          "output_type": "execute_result",
          "data": {
            "text/plain": [
              "['RT @martr101: brilliant spot to build at least 2500 homes then. Maybe @MarvinJRees should come clean and tell us that it will need a downst…',\n",
              " 'RT @PeterNicoll7: @Kirstene4Angus @ScotTories It is absolutely tragic that so many innocent lives are lost on our roads each year through d…',\n",
              " 'RT @sotee_D: How are entrepreneurs meant to survive in this country?? If to do a sponsored add on social media APCON wants to charge 25k to…',\n",
              " 'RT @Vinay_Mukhi: @ghaziabadpolice Is there any lok adalat for settling of traffic challans like it is there on coming Saturday in Delhi?',\n",
              " 'RT @AdDikshit: in 5 days this is the violation despite people knowing fully well what is an offence and that fines have been increased. Is…',\n",
              " \"RT @Symply_Tacha: Queen Tacha talking about Tundeednut bad mouthing her. She doesn't care about all that. For her nothing like bad publicit…\",\n",
              " '@Priest @natebrooks23 YMMV, but I reckon not crashing into people is a good enough reason. :) More seriously, that’… https://t.co/7ttIs3tLfP',\n",
              " 'RT @TheSnipping: #NarendraModi — MUMBAI generates the HIGHEST revenue for India. Can MUMBAIKAR deserve Better Roads, transportation and LIF…',\n",
              " 'RT @odey_owojela: I was in a Danfo bus and we were going to Ikeja Under Bridge and the traffic lasted four over an hour. But immediately I…',\n",
              " 'Planning on trying to bring forth prospective leads  plus prospects utilizing Twitter while not having becoming suc… https://t.co/NaAgKu4Uec']"
            ]
          },
          "metadata": {
            "tags": []
          },
          "execution_count": 40
        }
      ]
    },
    {
      "cell_type": "code",
      "metadata": {
        "id": "VHuiHoWhhPAI",
        "colab_type": "code",
        "outputId": "9b021512-7d97-4e7a-fe35-17641889cb39",
        "colab": {
          "base_uri": "https://localhost:8080/",
          "height": 1000
        }
      },
      "source": [
        "# Location and descripton of followers\n",
        "user = api.get_user(\"AshishCJha\")\n",
        "print(\"Last 20 Followers:\")\n",
        "for follower in user.followers():\n",
        "    print(follower.name)\n",
        "    print(follower.description)\n",
        "    print(follower.location)"
      ],
      "execution_count": 0,
      "outputs": [
        {
          "output_type": "stream",
          "text": [
            "Last 20 Followers:\n",
            "Pradeepta Mishra\n",
            "Dad | Director of AI | #AIArchitect | #Author | Guest Faculty | TEDx Speaker | #ML #DL #Trainer | Inventor at Lymbyc\n",
            "Bangalore, India\n",
            "Madhumita Phukan\n",
            "Brand & Communications @IBM by Profession! A #SocialMedia fanatic, #foodie, #naturelover, a lovely mom n a #Blogger by Passion! N Yes!Views & Tweets are my own.\n",
            "Bangalore\n",
            "Somesh\n",
            "\n",
            "Bengaluru, Karnataka\n",
            "sachidanand jha\n",
            "\n",
            "\n",
            "Husenbadshah\n",
            "Iam a Software Developer\n",
            "Pune, Maharashtra\n",
            "Satpal Rawat\n",
            "\n",
            "\n",
            "Poonam Kumari\n",
            "\n",
            "Bengaluru South, India\n",
            "Chandan\n",
            "\n",
            "\n",
            "Shankar Anand\n",
            "\n",
            "\n",
            "Roshni\n",
            "Music Entertainment News Lifestyle Food Fashion Comedy and Humour\n",
            "Ahmadabad City, India\n",
            "Ravi\n",
            "\n",
            "\n",
            "Navya Shree\n",
            "\n",
            "\n",
            "SANJU\n",
            "\n",
            "\n",
            "Prakash\n",
            "I love to new friends from all over the world\n",
            "कुलाबा, मुंबई\n",
            "Madhu Bhelley\n",
            "\n",
            "\n",
            "arpit\n",
            "\n",
            "Udaipur, India\n",
            "Ankita Singh\n",
            "\n",
            "\n",
            "Rupesh Sharma\n",
            "\n",
            "\n",
            "Rahul Kumar Singh\n",
            "\n",
            "\n",
            "Priyanka\n",
            "Lifestyle\n",
            "B\n"
          ],
          "name": "stdout"
        }
      ]
    },
    {
      "cell_type": "code",
      "metadata": {
        "id": "EavMe47Nh0mm",
        "colab_type": "code",
        "outputId": "50f6d669-8bc6-46b4-d61f-eec783f33889",
        "colab": {
          "base_uri": "https://localhost:8080/",
          "height": 884
        }
      },
      "source": [
        "# Method for trends\n",
        "trends_result = api.trends_place(1)\n",
        "for trend in trends_result[0][\"trends\"]:\n",
        "    print(trend[\"name\"])"
      ],
      "execution_count": 0,
      "outputs": [
        {
          "output_type": "stream",
          "text": [
            "#deprem\n",
            "#हिंदी_दिवस\n",
            "#بقيق\n",
            "#StopHindiImposition\n",
            "#夜の営みを四文字で表すと\n",
            "A-10\n",
            "Jessica Nkosi\n",
            "Çankırı\n",
            "ラブライブフェス\n",
            "レンジャーBOOK\n",
            "BB弾2000発\n",
            "スパショ\n",
            "吉P散歩\n",
            "メーテラ\n",
            "#ABSCBNBall2019\n",
            "#推しのお願い\n",
            "#TNTUltimateResbakers\n",
            "#HollywoodMoviesHindiName\n",
            "#SetorFoto\n",
            "#異性を好きになる基準\n",
            "#IndonesiaDaruratAsap\n",
            "#alexdesouza\n",
            "#ArlojiMall\n",
            "#WelcomeJINHYUKtoThailand\n",
            "#SaturdayThoughts\n",
            "#あにハニイベント\n",
            "#صباحات_الهلال\n",
            "#FullMoonFridaythe13th\n",
            "#SexSoBadThat\n",
            "#트친님들_저는_어떤_타입\n",
            "#JaNawoMePepe\n",
            "#لزلز\n",
            "#BeşiktaşınMaçıVar\n",
            "#WhatWomenDontKnowAboutMen\n",
            "#HatersGotNothingMV1M\n",
            "#aniaca\n",
            "#ห้องพักผู้ป่วย702xSUTH\n",
            "#MaineIPWFBSNationwide\n",
            "#MalamMingguanModal100rb\n",
            "#REIDyfornova5TPH\n",
            "#LISA25MPARTY\n",
            "#โยมเป็นผู้หญิงหรือผู้ชาย\n",
            "#NOX殺_診断\n",
            "#あなたの性格を三文字で表す\n",
            "#DrQadriGreatReformer\n",
            "#福のラジオ\n",
            "#lonte\n",
            "#14settembre\n",
            "#SabadoDetremuraSDV\n",
            "#CMUTrekking2019\n"
          ],
          "name": "stdout"
        }
      ]
    },
    {
      "cell_type": "code",
      "metadata": {
        "id": "IxlxukLpiATS",
        "colab_type": "code",
        "outputId": "e4ba5dff-d3d4-4652-efd3-143deb65869f",
        "colab": {
          "base_uri": "https://localhost:8080/",
          "height": 1000
        }
      },
      "source": [
        "# Find users and location info\n",
        "tweets = tw.Cursor(api.search, q = \"#iphone-filter:retweets\", lang = 'en', since = '2019-04-01').items(100)\n",
        "users = [[tweet.user.screen_name,tweet.user.location] for tweet in tweets]\n",
        "users\n",
        "location = pd.DataFrame(data=users, columns=['Screen_Name', 'Location'])\n",
        "location"
      ],
      "execution_count": 0,
      "outputs": [
        {
          "output_type": "execute_result",
          "data": {
            "text/html": [
              "<div>\n",
              "<style scoped>\n",
              "    .dataframe tbody tr th:only-of-type {\n",
              "        vertical-align: middle;\n",
              "    }\n",
              "\n",
              "    .dataframe tbody tr th {\n",
              "        vertical-align: top;\n",
              "    }\n",
              "\n",
              "    .dataframe thead th {\n",
              "        text-align: right;\n",
              "    }\n",
              "</style>\n",
              "<table border=\"1\" class=\"dataframe\">\n",
              "  <thead>\n",
              "    <tr style=\"text-align: right;\">\n",
              "      <th></th>\n",
              "      <th>Screen_Name</th>\n",
              "      <th>Location</th>\n",
              "    </tr>\n",
              "  </thead>\n",
              "  <tbody>\n",
              "    <tr>\n",
              "      <th>0</th>\n",
              "      <td>alien_touch</td>\n",
              "      <td>France</td>\n",
              "    </tr>\n",
              "    <tr>\n",
              "      <th>1</th>\n",
              "      <td>GBMEdu</td>\n",
              "      <td>Manchester</td>\n",
              "    </tr>\n",
              "    <tr>\n",
              "      <th>2</th>\n",
              "      <td>whitestone_UK</td>\n",
              "      <td></td>\n",
              "    </tr>\n",
              "    <tr>\n",
              "      <th>3</th>\n",
              "      <td>CeotechI</td>\n",
              "      <td></td>\n",
              "    </tr>\n",
              "    <tr>\n",
              "      <th>4</th>\n",
              "      <td>itsmejodavis</td>\n",
              "      <td></td>\n",
              "    </tr>\n",
              "    <tr>\n",
              "      <th>5</th>\n",
              "      <td>jirotomoton</td>\n",
              "      <td></td>\n",
              "    </tr>\n",
              "    <tr>\n",
              "      <th>6</th>\n",
              "      <td>ausgmv</td>\n",
              "      <td></td>\n",
              "    </tr>\n",
              "    <tr>\n",
              "      <th>7</th>\n",
              "      <td>zebronics</td>\n",
              "      <td>India</td>\n",
              "    </tr>\n",
              "    <tr>\n",
              "      <th>8</th>\n",
              "      <td>JessMcKenna1997</td>\n",
              "      <td>Find a new Apple Watch strap below...</td>\n",
              "    </tr>\n",
              "    <tr>\n",
              "      <th>9</th>\n",
              "      <td>bondswell_com</td>\n",
              "      <td>IG/Vine/Tumblr: bondswell</td>\n",
              "    </tr>\n",
              "    <tr>\n",
              "      <th>10</th>\n",
              "      <td>rosieuwoo_s</td>\n",
              "      <td>T13-Nct-AbCix-verivery-X1-By9</td>\n",
              "    </tr>\n",
              "    <tr>\n",
              "      <th>11</th>\n",
              "      <td>dynamicportrai1</td>\n",
              "      <td>Ticino, Switzerland</td>\n",
              "    </tr>\n",
              "    <tr>\n",
              "      <th>12</th>\n",
              "      <td>_iamjunaid</td>\n",
              "      <td>Lahore</td>\n",
              "    </tr>\n",
              "    <tr>\n",
              "      <th>13</th>\n",
              "      <td>LunarIceGoddess</td>\n",
              "      <td>Fresno ca</td>\n",
              "    </tr>\n",
              "    <tr>\n",
              "      <th>14</th>\n",
              "      <td>swangsadiredja</td>\n",
              "      <td>Jakarta</td>\n",
              "    </tr>\n",
              "    <tr>\n",
              "      <th>15</th>\n",
              "      <td>TodayOffers4</td>\n",
              "      <td>Hyderabad, India</td>\n",
              "    </tr>\n",
              "    <tr>\n",
              "      <th>16</th>\n",
              "      <td>246c</td>\n",
              "      <td></td>\n",
              "    </tr>\n",
              "    <tr>\n",
              "      <th>17</th>\n",
              "      <td>Knowledge_PS</td>\n",
              "      <td>United States</td>\n",
              "    </tr>\n",
              "    <tr>\n",
              "      <th>18</th>\n",
              "      <td>djtito</td>\n",
              "      <td>Florida PR NY CA TX VA MD</td>\n",
              "    </tr>\n",
              "    <tr>\n",
              "      <th>19</th>\n",
              "      <td>tweet4mee1</td>\n",
              "      <td>New York, USA</td>\n",
              "    </tr>\n",
              "    <tr>\n",
              "      <th>20</th>\n",
              "      <td>NusTrivia</td>\n",
              "      <td>Vancouver, British Columbia</td>\n",
              "    </tr>\n",
              "    <tr>\n",
              "      <th>21</th>\n",
              "      <td>CreativeConstr</td>\n",
              "      <td>Berlin, Germany</td>\n",
              "    </tr>\n",
              "    <tr>\n",
              "      <th>22</th>\n",
              "      <td>unix_root</td>\n",
              "      <td>INTERNET</td>\n",
              "    </tr>\n",
              "    <tr>\n",
              "      <th>23</th>\n",
              "      <td>vijay_aaditya</td>\n",
              "      <td></td>\n",
              "    </tr>\n",
              "    <tr>\n",
              "      <th>24</th>\n",
              "      <td>TVRav</td>\n",
              "      <td>Europe</td>\n",
              "    </tr>\n",
              "    <tr>\n",
              "      <th>25</th>\n",
              "      <td>distilled_view</td>\n",
              "      <td>Bombay/Madras</td>\n",
              "    </tr>\n",
              "    <tr>\n",
              "      <th>26</th>\n",
              "      <td>_GLITCHED_</td>\n",
              "      <td>Johannesburg, South Africa</td>\n",
              "    </tr>\n",
              "    <tr>\n",
              "      <th>27</th>\n",
              "      <td>rajkoshik</td>\n",
              "      <td>bangalore, mangaluru</td>\n",
              "    </tr>\n",
              "    <tr>\n",
              "      <th>28</th>\n",
              "      <td>manoj_naandi</td>\n",
              "      <td></td>\n",
              "    </tr>\n",
              "    <tr>\n",
              "      <th>29</th>\n",
              "      <td>techinsightspk</td>\n",
              "      <td></td>\n",
              "    </tr>\n",
              "    <tr>\n",
              "      <th>...</th>\n",
              "      <td>...</td>\n",
              "      <td>...</td>\n",
              "    </tr>\n",
              "    <tr>\n",
              "      <th>70</th>\n",
              "      <td>acumecltd</td>\n",
              "      <td></td>\n",
              "    </tr>\n",
              "    <tr>\n",
              "      <th>71</th>\n",
              "      <td>acumecltd</td>\n",
              "      <td></td>\n",
              "    </tr>\n",
              "    <tr>\n",
              "      <th>72</th>\n",
              "      <td>pASob_dESIGN</td>\n",
              "      <td>Germany</td>\n",
              "    </tr>\n",
              "    <tr>\n",
              "      <th>73</th>\n",
              "      <td>acumecltd</td>\n",
              "      <td></td>\n",
              "    </tr>\n",
              "    <tr>\n",
              "      <th>74</th>\n",
              "      <td>acumecltd</td>\n",
              "      <td></td>\n",
              "    </tr>\n",
              "    <tr>\n",
              "      <th>75</th>\n",
              "      <td>acumecltd</td>\n",
              "      <td></td>\n",
              "    </tr>\n",
              "    <tr>\n",
              "      <th>76</th>\n",
              "      <td>acumecltd</td>\n",
              "      <td></td>\n",
              "    </tr>\n",
              "    <tr>\n",
              "      <th>77</th>\n",
              "      <td>acumecltd</td>\n",
              "      <td></td>\n",
              "    </tr>\n",
              "    <tr>\n",
              "      <th>78</th>\n",
              "      <td>acumecltd</td>\n",
              "      <td></td>\n",
              "    </tr>\n",
              "    <tr>\n",
              "      <th>79</th>\n",
              "      <td>AskNimesh</td>\n",
              "      <td>Sri Lanka</td>\n",
              "    </tr>\n",
              "    <tr>\n",
              "      <th>80</th>\n",
              "      <td>tweet4mee1</td>\n",
              "      <td>New York, USA</td>\n",
              "    </tr>\n",
              "    <tr>\n",
              "      <th>81</th>\n",
              "      <td>jamjamtv</td>\n",
              "      <td>The Earth</td>\n",
              "    </tr>\n",
              "    <tr>\n",
              "      <th>82</th>\n",
              "      <td>wp_alltrending</td>\n",
              "      <td></td>\n",
              "    </tr>\n",
              "    <tr>\n",
              "      <th>83</th>\n",
              "      <td>NusTrivia</td>\n",
              "      <td>Vancouver, British Columbia</td>\n",
              "    </tr>\n",
              "    <tr>\n",
              "      <th>84</th>\n",
              "      <td>dynamicportrai1</td>\n",
              "      <td>Ticino, Switzerland</td>\n",
              "    </tr>\n",
              "    <tr>\n",
              "      <th>85</th>\n",
              "      <td>Sunleil</td>\n",
              "      <td></td>\n",
              "    </tr>\n",
              "    <tr>\n",
              "      <th>86</th>\n",
              "      <td>BigBoxDeals</td>\n",
              "      <td>Miami, FL</td>\n",
              "    </tr>\n",
              "    <tr>\n",
              "      <th>87</th>\n",
              "      <td>subbytech</td>\n",
              "      <td>Northern Ireland</td>\n",
              "    </tr>\n",
              "    <tr>\n",
              "      <th>88</th>\n",
              "      <td>Chaitanya_90</td>\n",
              "      <td>Mother Earth</td>\n",
              "    </tr>\n",
              "    <tr>\n",
              "      <th>89</th>\n",
              "      <td>iChawlaManish</td>\n",
              "      <td>Pune, India</td>\n",
              "    </tr>\n",
              "    <tr>\n",
              "      <th>90</th>\n",
              "      <td>NusTrivia</td>\n",
              "      <td>Vancouver, British Columbia</td>\n",
              "    </tr>\n",
              "    <tr>\n",
              "      <th>91</th>\n",
              "      <td>happygeek</td>\n",
              "      <td>West Yorkshire, UK</td>\n",
              "    </tr>\n",
              "    <tr>\n",
              "      <th>92</th>\n",
              "      <td>TheDistanceHQ</td>\n",
              "      <td>York, United Kingdom</td>\n",
              "    </tr>\n",
              "    <tr>\n",
              "      <th>93</th>\n",
              "      <td>IndieVideoGames</td>\n",
              "      <td>San Diego, CA</td>\n",
              "    </tr>\n",
              "    <tr>\n",
              "      <th>94</th>\n",
              "      <td>kicktippEN</td>\n",
              "      <td>Free in the app Store 📱</td>\n",
              "    </tr>\n",
              "    <tr>\n",
              "      <th>95</th>\n",
              "      <td>FromMaadi</td>\n",
              "      <td>3L0H55A</td>\n",
              "    </tr>\n",
              "    <tr>\n",
              "      <th>96</th>\n",
              "      <td>Ventura_Sec</td>\n",
              "      <td>India</td>\n",
              "    </tr>\n",
              "    <tr>\n",
              "      <th>97</th>\n",
              "      <td>VOEverything</td>\n",
              "      <td></td>\n",
              "    </tr>\n",
              "    <tr>\n",
              "      <th>98</th>\n",
              "      <td>byHoRRoR</td>\n",
              "      <td>byhorrorgoogle</td>\n",
              "    </tr>\n",
              "    <tr>\n",
              "      <th>99</th>\n",
              "      <td>AmitBadal</td>\n",
              "      <td>Nederland</td>\n",
              "    </tr>\n",
              "  </tbody>\n",
              "</table>\n",
              "<p>100 rows × 2 columns</p>\n",
              "</div>"
            ],
            "text/plain": [
              "        Screen_Name                               Location\n",
              "0       alien_touch                                 France\n",
              "1            GBMEdu                             Manchester\n",
              "2     whitestone_UK                                       \n",
              "3          CeotechI                                       \n",
              "4      itsmejodavis                                       \n",
              "5       jirotomoton                                       \n",
              "6            ausgmv                                       \n",
              "7         zebronics                                  India\n",
              "8   JessMcKenna1997  Find a new Apple Watch strap below...\n",
              "9     bondswell_com              IG/Vine/Tumblr: bondswell\n",
              "10      rosieuwoo_s          T13-Nct-AbCix-verivery-X1-By9\n",
              "11  dynamicportrai1                    Ticino, Switzerland\n",
              "12       _iamjunaid                                 Lahore\n",
              "13  LunarIceGoddess                              Fresno ca\n",
              "14   swangsadiredja                                Jakarta\n",
              "15     TodayOffers4                       Hyderabad, India\n",
              "16             246c                                       \n",
              "17     Knowledge_PS                          United States\n",
              "18           djtito              Florida PR NY CA TX VA MD\n",
              "19       tweet4mee1                          New York, USA\n",
              "20        NusTrivia            Vancouver, British Columbia\n",
              "21   CreativeConstr                        Berlin, Germany\n",
              "22        unix_root                              INTERNET \n",
              "23    vijay_aaditya                                       \n",
              "24            TVRav                                 Europe\n",
              "25   distilled_view                          Bombay/Madras\n",
              "26       _GLITCHED_             Johannesburg, South Africa\n",
              "27        rajkoshik                   bangalore, mangaluru\n",
              "28     manoj_naandi                                       \n",
              "29   techinsightspk                                       \n",
              "..              ...                                    ...\n",
              "70        acumecltd                                       \n",
              "71        acumecltd                                       \n",
              "72     pASob_dESIGN                                Germany\n",
              "73        acumecltd                                       \n",
              "74        acumecltd                                       \n",
              "75        acumecltd                                       \n",
              "76        acumecltd                                       \n",
              "77        acumecltd                                       \n",
              "78        acumecltd                                       \n",
              "79        AskNimesh                              Sri Lanka\n",
              "80       tweet4mee1                          New York, USA\n",
              "81         jamjamtv                              The Earth\n",
              "82   wp_alltrending                                       \n",
              "83        NusTrivia            Vancouver, British Columbia\n",
              "84  dynamicportrai1                    Ticino, Switzerland\n",
              "85          Sunleil                                       \n",
              "86      BigBoxDeals                              Miami, FL\n",
              "87        subbytech                       Northern Ireland\n",
              "88     Chaitanya_90                           Mother Earth\n",
              "89    iChawlaManish                            Pune, India\n",
              "90        NusTrivia            Vancouver, British Columbia\n",
              "91        happygeek                     West Yorkshire, UK\n",
              "92    TheDistanceHQ                   York, United Kingdom\n",
              "93  IndieVideoGames                          San Diego, CA\n",
              "94       kicktippEN                Free in the app Store 📱\n",
              "95        FromMaadi                                3L0H55A\n",
              "96      Ventura_Sec                                  India\n",
              "97     VOEverything                                       \n",
              "98         byHoRRoR                         byhorrorgoogle\n",
              "99        AmitBadal                              Nederland\n",
              "\n",
              "[100 rows x 2 columns]"
            ]
          },
          "metadata": {
            "tags": []
          },
          "execution_count": 51
        }
      ]
    },
    {
      "cell_type": "code",
      "metadata": {
        "id": "regeAKsL--xG",
        "colab_type": "code",
        "colab": {}
      },
      "source": [
        "# Let's begin with NLP related activities on 1000 tweets\n",
        "tweets = tw.Cursor(api.search, q = \"indian economy-filter:retweets\", lang = 'en', since = '2019-04-01').items(100)\n",
        "tweets_text = [tweet.text for tweet in tweets]"
      ],
      "execution_count": 0,
      "outputs": []
    },
    {
      "cell_type": "code",
      "metadata": {
        "id": "w8nv2Bhu_i3-",
        "colab_type": "code",
        "outputId": "ad1dca03-8a2c-45a1-e048-d0eb0cd790f9",
        "colab": {
          "base_uri": "https://localhost:8080/",
          "height": 128
        }
      },
      "source": [
        "len(tweets_text)\n",
        "tweets_text[0:5]"
      ],
      "execution_count": 0,
      "outputs": [
        {
          "output_type": "execute_result",
          "data": {
            "text/plain": [
              "['If the Indian economy continues to lose momentum over the next two quarters, then the country will be falling into… https://t.co/tPuhgXRad3',\n",
              " '@VinayDokania Hope this is his new job role to upbeat the Indian economy which is into its destructive mode. Now do… https://t.co/wiPaWnuhd1',\n",
              " 'They Cant Controll GDP fall,\\nIndian Rupee Value Fall,\\nAuto Industry slow down,\\nEconomy Slow down\\n\\nLooting Banks, RB… https://t.co/svmWUHdb7V',\n",
              " 'Answer to Do you think the Indian economy will beat the Chinese economy in years to come? Why? by Matthew Nghiem https://t.co/f4GuHc8aQC',\n",
              " 'A debate on what ails the economy should acknowledge the problems of India Inc | The Indian Express… https://t.co/nFrVnhsrAg']"
            ]
          },
          "metadata": {
            "tags": []
          },
          "execution_count": 54
        }
      ]
    },
    {
      "cell_type": "code",
      "metadata": {
        "id": "_YspmqGzKVP2",
        "colab_type": "code",
        "outputId": "1c9a71b0-4916-4ac0-925f-cc5de80666e5",
        "colab": {
          "base_uri": "https://localhost:8080/",
          "height": 35
        }
      },
      "source": [
        "len(tweets_text)"
      ],
      "execution_count": 0,
      "outputs": [
        {
          "output_type": "execute_result",
          "data": {
            "text/plain": [
              "100"
            ]
          },
          "metadata": {
            "tags": []
          },
          "execution_count": 73
        }
      ]
    },
    {
      "cell_type": "code",
      "metadata": {
        "id": "CGzvGTni_5mW",
        "colab_type": "code",
        "outputId": "670a7c48-d099-4e93-caa3-55222d1109f3",
        "colab": {
          "base_uri": "https://localhost:8080/",
          "height": 90
        }
      },
      "source": [
        "corpus = []\n",
        "import nltk\n",
        "import re\n",
        "nltk.download('wordnet')\n",
        "nltk.download('stopwords')\n",
        "ps = nltk.stem.PorterStemmer()\n",
        "stop_words = nltk.corpus.stopwords.words('english')\n",
        "for i in range(0,100):\n",
        "  tweets_text_cln = re.sub(\"(@[A-Za-z0-9]+)|([^0-9A-Za-z\\t])|(\\w+:\\/\\/\\S+)|[0-9]\", ' ', tweets_text[i])\n",
        "  tweets_text_cln = tweets_text_cln.lower()\n",
        "  tweets_text_cln = tweets_text_cln.split()\n",
        "  tweets_text_cln = [x for x in tweets_text_cln if not x in stop_words]\n",
        "  #stem word to base form\n",
        "  tweets_text_cln = \" \".join(tweets_text_cln)\n",
        "  #Append to the list to get all tweets in one place\n",
        "  corpus.append(tweets_text_cln)\n",
        "  "
      ],
      "execution_count": 0,
      "outputs": [
        {
          "output_type": "stream",
          "text": [
            "[nltk_data] Downloading package wordnet to /root/nltk_data...\n",
            "[nltk_data]   Package wordnet is already up-to-date!\n",
            "[nltk_data] Downloading package stopwords to /root/nltk_data...\n",
            "[nltk_data]   Package stopwords is already up-to-date!\n"
          ],
          "name": "stdout"
        }
      ]
    },
    {
      "cell_type": "code",
      "metadata": {
        "id": "azkFcvWZKmzM",
        "colab_type": "code",
        "outputId": "f697cf46-4357-4fe9-9914-a50e8ca77c12",
        "colab": {
          "base_uri": "https://localhost:8080/",
          "height": 1000
        }
      },
      "source": [
        "for i in corpus:\n",
        "  print (i)"
      ],
      "execution_count": 0,
      "outputs": [
        {
          "output_type": "stream",
          "text": [
            "indian economy continues lose momentum next two quarters country falling\n",
            "hope new job role upbeat indian economy destructive mode\n",
            "cant controll gdp fall indian rupee value fall auto industry slow economy slow looting banks rb\n",
            "answer think indian economy beat chinese economy years come matthew nghiem\n",
            "debate ails economy acknowledge problems india inc indian express\n",
            "hindi rashtra bhasha mr home minister languages lakhs indian pe\n",
            "comparing indian gdp nations well india th la\n",
            "distress indian economy becoming visible real every passing day auto dealers\n",
            "calling one nation one language seems stupid dialects amp official languages country\n",
            "ind bjp bloody fools stupids cant controll gdp fall indian rupee value fall auto industry\n",
            "fm press conference live may announce key measures economy catch updates\n",
            "burning issue economy huge loss jobs across country affects every indian household hea\n",
            "cintaa demandforindustrystatus mr hemantpandey indian entertainment industry contributes approximately\n",
            "roses red violets blue indian economy fucked govt clue\n",
            "india gdp much weaker expected international monetary fund must make note modi hugged\n",
            "imf report questioning economicslowdown indian economy growing expected earlier\n",
            "bjp bloody fools stupids cant controll gdp fall indian rupee value fall auto industry slow economy slo\n",
            "sincerely dont care amitshah stand hindi expect government repair damages done ind\n",
            "september members en friday called trade amp travel sanctions india ala\n",
            "rashid unfortunate situation kashmiri happened bacteria like bloody stolen lots\n",
            "dear asking give bucks plant tree lovely spoken\n",
            "already know indian economy talking b imports india\n",
            "g imf report regarding indian economy believe choice keep smiling\n",
            "dear indian media interested indian economy development pakistan please focus point\n",
            "answer downfall indian economy due automobile sector slowdown\n",
            "talking indian economy\n",
            "hoping comprehensive ability regarding finance lead exponential growth rather tha\n",
            "modi made kashmir international issue modi spoiled indian air\n",
            "look forward working standing committee finance crucial put indian economy recove\n",
            "amitshah please concentrate indian economy improve gdp stophindiimperialism\n",
            "even dare quote india sensationalist media outlet oh know\n",
            "stophindiimposition potato amp traveller always start something divert indian economy soup people\n",
            "last amp final thing ask u r self mirror ur country fun\n",
            "one enlighten hindi national language hindibelt prosperous\n",
            "quiz paytm ceo recently said inevitable bankruptcy b ipo c acquisition google nationalisa\n",
            "awesome prof shut mouth know nothing indian economy lectur\n",
            "g think see border environment import environment yo\n",
            "indian economy punctured cow brigade puncture irrepairable\n",
            "hindu indian economy free fall amitshah gravitygoyal piyushhatesmaths\n",
            "amp recruiting expert blue economy cities west indian ocean region please\n",
            "sambit like go maths never gonna help govt achieving trillion economy\n",
            "dear mr sha already official language called english indian standing tall international\n",
            "conversation cred founder kunal shah talks maturing indian startup ecosystem indian economy building\n",
            "question bjp amp nda members parliament speak hindi first lets start meantim\n",
            "nhi berojgari k dor indian economy kaise increase hogi example iit bombay se pass student jab railway group job krega\n",
            "calling one nation one language looks like divert attention indian economy issue\n",
            "parents start naming sons daughters indian economy plss\n",
            "modi fulfill forecast everyone really working hard ind\n",
            "kudos india jumped spots global economic freedom index last year th spot current rankin\n",
            "even piyush goyal well equipped economics indian economy rate problem variations\n",
            "congratulations sir always look always\n",
            "mr indranil sengupta co head amp economist india research bank america merrill lynch visited academy\n",
            "hmmm growth premium devices india q april june price bracket rs w\n",
            "hate millennials millennials driving force indian economy india crore millennia\n",
            "kashmir full potential emerge secular socialist state strong economy kash\n",
            "matt visionary understand simple logic war pol\n",
            "bjp know well divert current issue another indian economy fall stophindiimposition\n",
            "\n",
            "premium smartphone sales beating indian economy slowdown continue growth\n",
            "indian visit south india time introduce ancient languages bro\n",
            "indian economy fastest growing economy per major multilateral institutions gross domestic pro\n",
            "theindian believer loss rupees crores resulted failed lunar mission isro showin\n",
            "indian economy cycles every economy go thru need innovate amp develop areas attend\n",
            "indian government nationalised major private banks one big banks bankofindia na\n",
            "moron look economy amp people suffering\n",
            "agriculture backbone indian economy\n",
            "bike becomes national vehicle indian style latrine becomes national toilet making\n",
            "didnt say land rights course land rights pretty significant w\n",
            "current year indian economy worst reason floods\n",
            "sadhgurujv backbone indian economy weakening due poor soil health amp depleting rivers support\n",
            "sadhgurujv backbone indian economy weakening due poor soil health amp depleting rivers support\n",
            "india seen till behave l\n",
            "backbone indian economy weakening due poor soil health amp depleting rivers support\n",
            "backbone indian economy weakening due poor soil health amp depleting rivers support\n",
            "pm modi failed india economy punish indian people via\n",
            "h nair indian economy amithsha must speak hindi\n",
            "result huge indian economy pakistan build economy economic interests\n",
            "missing worm eye view indian express via thanks\n",
            "learnt famous powerful indian burn c\n",
            "indian companies hold key give indian econ\n",
            "indian companies hold key give indian econ\n",
            "indian companies hold key give indian\n",
            "government trying revive economy motor vehicle challan smart move government towards idiotic indian\n",
            "let unite ask psycho shah dexlare tn seprete country prosper ahead alone even\n",
            "absolutely true years master join college le\n",
            "south states backbone indian economy high tax payers india obey law every sta\n",
            "comrade thing revive indian economy amp economic activities country advise unions\n",
            "concentrate indian economy growth development happy speak mother tongue tha\n",
            "true hope stop statue thing indian world economy slowing tourism te\n",
            "vijay mallya picture pls get india indian economy would befinitely get boost cr\n",
            "indian economy sinking ship\n",
            "interested knowing fate indian economy well indians course many others\n",
            "dear time focus develope india indian economy developing hindi stophindiimposition\n",
            "eye wash headline make poor gullible indian think modi impartial afraid act ag\n",
            "expected two muslims one might friends dont care gates\n",
            "sir crude go indian economy struggle\n",
            "premium smartphone sales beating indian economy slowdown continue growth\n",
            "premium smartphone sales beating indian economy slowdown continue growth tech technology\n",
            "premium smartphone sales beating indian economy slowdown continue growth technology top tech news\n",
            "peacock national bird despite crow majority stophindiimposition\n"
          ],
          "name": "stdout"
        }
      ]
    },
    {
      "cell_type": "code",
      "metadata": {
        "id": "kP5idThLOt9w",
        "colab_type": "code",
        "colab": {}
      },
      "source": [
        "# Frequenctly used word and their frequency\n",
        "bagofwords  = []\n",
        "for i in range (0,100):\n",
        "  words = corpus[i].split()\n",
        "  bagofwords.append(words)"
      ],
      "execution_count": 0,
      "outputs": []
    },
    {
      "cell_type": "code",
      "metadata": {
        "id": "9djnfI_hPJTy",
        "colab_type": "code",
        "outputId": "6dcb8672-4bf2-41cb-d0cd-967d28023340",
        "colab": {
          "base_uri": "https://localhost:8080/",
          "height": 199
        }
      },
      "source": [
        "bagofwords[0]"
      ],
      "execution_count": 0,
      "outputs": [
        {
          "output_type": "execute_result",
          "data": {
            "text/plain": [
              "['indian',\n",
              " 'economy',\n",
              " 'continues',\n",
              " 'lose',\n",
              " 'momentum',\n",
              " 'next',\n",
              " 'two',\n",
              " 'quarters',\n",
              " 'country',\n",
              " 'falling']"
            ]
          },
          "metadata": {
            "tags": []
          },
          "execution_count": 78
        }
      ]
    },
    {
      "cell_type": "code",
      "metadata": {
        "id": "Qwr5L94JPMjq",
        "colab_type": "code",
        "outputId": "2a77a747-7354-4cee-ca11-55c17b54afa3",
        "colab": {
          "base_uri": "https://localhost:8080/",
          "height": 454
        }
      },
      "source": [
        "# Leverage itertools and collection to count frequency\n",
        "all_words = list(itertools.chain(*bagofwords))\n",
        "print(all_words[0:10])\n",
        "print()\n",
        "print(\"Most commonly occuring words and frequency\\n\")\n",
        "words_freq = collections.Counter(all_words)\n",
        "words_freq.most_common(20)\n"
      ],
      "execution_count": 0,
      "outputs": [
        {
          "output_type": "stream",
          "text": [
            "['indian', 'economy', 'continues', 'lose', 'momentum', 'next', 'two', 'quarters', 'country', 'falling']\n",
            "\n",
            "Most commonly occuring words and frequency\n",
            "\n"
          ],
          "name": "stdout"
        },
        {
          "output_type": "execute_result",
          "data": {
            "text/plain": [
              "[('indian', 74),\n",
              " ('economy', 62),\n",
              " ('india', 16),\n",
              " ('amp', 14),\n",
              " ('fall', 8),\n",
              " ('one', 7),\n",
              " ('growth', 7),\n",
              " ('country', 6),\n",
              " ('gdp', 6),\n",
              " ('hindi', 6),\n",
              " ('modi', 6),\n",
              " ('backbone', 6),\n",
              " ('due', 5),\n",
              " ('slowdown', 5),\n",
              " ('premium', 5),\n",
              " ('poor', 5),\n",
              " ('auto', 4),\n",
              " ('industry', 4),\n",
              " ('mr', 4),\n",
              " ('well', 4)]"
            ]
          },
          "metadata": {
            "tags": []
          },
          "execution_count": 87
        }
      ]
    },
    {
      "cell_type": "code",
      "metadata": {
        "id": "qObuVQJCQ06m",
        "colab_type": "code",
        "colab": {}
      },
      "source": [
        "# Remove words which are used for search queries \n",
        "words_to_remove = ['india', 'economy','indian','much', 'amp']\n",
        "bagofwords_new = [[x for x in word if not x in words_to_remove] for word in bagofwords]"
      ],
      "execution_count": 0,
      "outputs": []
    },
    {
      "cell_type": "code",
      "metadata": {
        "id": "T3C8bHZzQ1Qj",
        "colab_type": "code",
        "outputId": "f8b1df04-b597-450d-c329-c52d658ba300",
        "colab": {
          "base_uri": "https://localhost:8080/",
          "height": 454
        }
      },
      "source": [
        "all_words = list(itertools.chain(*bagofwords_new))\n",
        "print(all_words[0:10])\n",
        "print()\n",
        "print(\"Most commonly occuring words and frequency\\n\")\n",
        "words_freq = collections.Counter(all_words)\n",
        "words_freq.most_common(20)\n"
      ],
      "execution_count": 0,
      "outputs": [
        {
          "output_type": "stream",
          "text": [
            "['continues', 'lose', 'momentum', 'next', 'two', 'quarters', 'country', 'falling', 'hope', 'new']\n",
            "\n",
            "Most commonly occuring words and frequency\n",
            "\n"
          ],
          "name": "stdout"
        },
        {
          "output_type": "execute_result",
          "data": {
            "text/plain": [
              "[('fall', 8),\n",
              " ('one', 7),\n",
              " ('growth', 7),\n",
              " ('country', 6),\n",
              " ('gdp', 6),\n",
              " ('hindi', 6),\n",
              " ('modi', 6),\n",
              " ('backbone', 6),\n",
              " ('due', 5),\n",
              " ('slowdown', 5),\n",
              " ('premium', 5),\n",
              " ('poor', 5),\n",
              " ('auto', 4),\n",
              " ('industry', 4),\n",
              " ('mr', 4),\n",
              " ('well', 4),\n",
              " ('every', 4),\n",
              " ('language', 4),\n",
              " ('bjp', 4),\n",
              " ('key', 4)]"
            ]
          },
          "metadata": {
            "tags": []
          },
          "execution_count": 89
        }
      ]
    },
    {
      "cell_type": "code",
      "metadata": {
        "id": "D4qrg3v6Q1Ok",
        "colab_type": "code",
        "outputId": "98f58a3c-e17e-4dcf-c82d-59ea30fd9d75",
        "colab": {
          "base_uri": "https://localhost:8080/",
          "height": 198
        }
      },
      "source": [
        "# Form a dataframe with the 20 most commonaly used words\n",
        "freq_word_df = pd.DataFrame(words_freq.most_common(20),columns = ['Words','Freq'])\n",
        "freq_word_df.head()"
      ],
      "execution_count": 0,
      "outputs": [
        {
          "output_type": "execute_result",
          "data": {
            "text/html": [
              "<div>\n",
              "<style scoped>\n",
              "    .dataframe tbody tr th:only-of-type {\n",
              "        vertical-align: middle;\n",
              "    }\n",
              "\n",
              "    .dataframe tbody tr th {\n",
              "        vertical-align: top;\n",
              "    }\n",
              "\n",
              "    .dataframe thead th {\n",
              "        text-align: right;\n",
              "    }\n",
              "</style>\n",
              "<table border=\"1\" class=\"dataframe\">\n",
              "  <thead>\n",
              "    <tr style=\"text-align: right;\">\n",
              "      <th></th>\n",
              "      <th>Words</th>\n",
              "      <th>Freq</th>\n",
              "    </tr>\n",
              "  </thead>\n",
              "  <tbody>\n",
              "    <tr>\n",
              "      <th>0</th>\n",
              "      <td>fall</td>\n",
              "      <td>8</td>\n",
              "    </tr>\n",
              "    <tr>\n",
              "      <th>1</th>\n",
              "      <td>one</td>\n",
              "      <td>7</td>\n",
              "    </tr>\n",
              "    <tr>\n",
              "      <th>2</th>\n",
              "      <td>growth</td>\n",
              "      <td>7</td>\n",
              "    </tr>\n",
              "    <tr>\n",
              "      <th>3</th>\n",
              "      <td>country</td>\n",
              "      <td>6</td>\n",
              "    </tr>\n",
              "    <tr>\n",
              "      <th>4</th>\n",
              "      <td>gdp</td>\n",
              "      <td>6</td>\n",
              "    </tr>\n",
              "  </tbody>\n",
              "</table>\n",
              "</div>"
            ],
            "text/plain": [
              "     Words  Freq\n",
              "0     fall     8\n",
              "1      one     7\n",
              "2   growth     7\n",
              "3  country     6\n",
              "4      gdp     6"
            ]
          },
          "metadata": {
            "tags": []
          },
          "execution_count": 90
        }
      ]
    },
    {
      "cell_type": "code",
      "metadata": {
        "id": "HmYOxdgDQ1Kn",
        "colab_type": "code",
        "outputId": "c7efa804-b84a-4165-e5b2-ad64d572c398",
        "colab": {
          "base_uri": "https://localhost:8080/",
          "height": 595
        }
      },
      "source": [
        "#Plot the most commonaly used words\n",
        "fig, ax = plt.subplots(figsize=(15,10))\n",
        "freq_word_df.sort_values(by= 'Freq').plot.barh(x='Words', y='Freq', ax=ax, color = \"green\")\n",
        "plt.show()"
      ],
      "execution_count": 0,
      "outputs": [
        {
          "output_type": "display_data",
          "data": {
            "image/png": "[encoded data removed]",
            "text/plain": [
              "<Figure size 1080x720 with 1 Axes>"
            ]
          },
          "metadata": {
            "tags": []
          }
        }
      ]
    },
    {
      "cell_type": "code",
      "metadata": {
        "id": "ZKGT1TXTQ1GQ",
        "colab_type": "code",
        "colab": {}
      },
      "source": [
        "# Build a wordcloud from the most commonaly used words\n",
        "from wordcloud import WordCloud, STOPWORDS\n",
        "word_string = \" \".join(freq_word_df.Words)\n",
        "wordcloud = WordCloud(#stopwords = STOPWORDS, \n",
        "    background_color = 'black', max_words = 20).generate(word_string)\n",
        "    \n",
        "    "
      ],
      "execution_count": 0,
      "outputs": []
    },
    {
      "cell_type": "code",
      "metadata": {
        "id": "E7m_ydAuQ1Dl",
        "colab_type": "code",
        "outputId": "84ce75ba-0f5c-4261-ef7f-3b19a673f313",
        "colab": {
          "base_uri": "https://localhost:8080/",
          "height": 469
        }
      },
      "source": [
        "plt.figure(figsize = (15,10))\n",
        "plt.clf()\n",
        "plt.imshow(wordcloud)\n",
        "plt.axis('off')\n",
        "plt.show()"
      ],
      "execution_count": 0,
      "outputs": [
        {
          "output_type": "display_data",
          "data": {
            "image/png": "[encoded data removed]",
            "text/plain": [
              "<Figure size 1080x720 with 1 Axes>"
            ]
          },
          "metadata": {
            "tags": []
          }
        }
      ]
    },
    {
      "cell_type": "code",
      "metadata": {
        "id": "T9vHb26xQ1Ab",
        "colab_type": "code",
        "outputId": "e28a5051-4566-4ff0-ebac-b4b3cf9a516f",
        "colab": {
          "base_uri": "https://localhost:8080/",
          "height": 54
        }
      },
      "source": [
        "# sentiments of each tween using TextBlob\n",
        "sentiment_text = [TextBlob(tweet) for tweet in corpus]\n",
        "print(sentiment_text[1].polarity)\n",
        "print(sentiment_text[1])"
      ],
      "execution_count": 0,
      "outputs": [
        {
          "output_type": "stream",
          "text": [
            "-0.2318181818181818\n",
            "hope new job role upbeat indian economy destructive mode\n"
          ],
          "name": "stdout"
        }
      ]
    },
    {
      "cell_type": "code",
      "metadata": {
        "id": "gLXs0ieiWE89",
        "colab_type": "code",
        "outputId": "9cd6077c-bd59-4ff1-c5e5-2b5f1a4f4b55",
        "colab": {
          "base_uri": "https://localhost:8080/",
          "height": 1000
        }
      },
      "source": [
        "sentiments = [[tweet.sentiment.polarity, str(tweet)]for tweet in sentiment_text]\n",
        "sentiment_df = pd.DataFrame(sentiments, columns=[\"Polarity\", \"Tweet_Text\"])\n",
        "sentiment_df.sort_values(by='Polarity', ascending = False)"
      ],
      "execution_count": 0,
      "outputs": [
        {
          "output_type": "execute_result",
          "data": {
            "text/html": [
              "<div>\n",
              "<style scoped>\n",
              "    .dataframe tbody tr th:only-of-type {\n",
              "        vertical-align: middle;\n",
              "    }\n",
              "\n",
              "    .dataframe tbody tr th {\n",
              "        vertical-align: top;\n",
              "    }\n",
              "\n",
              "    .dataframe thead th {\n",
              "        text-align: right;\n",
              "    }\n",
              "</style>\n",
              "<table border=\"1\" class=\"dataframe\">\n",
              "  <thead>\n",
              "    <tr style=\"text-align: right;\">\n",
              "      <th></th>\n",
              "      <th>Polarity</th>\n",
              "      <th>Tweet_Text</th>\n",
              "    </tr>\n",
              "  </thead>\n",
              "  <tbody>\n",
              "    <tr>\n",
              "      <th>35</th>\n",
              "      <td>1.000000</td>\n",
              "      <td>awesome prof shut mouth know nothing indian ec...</td>\n",
              "    </tr>\n",
              "    <tr>\n",
              "      <th>87</th>\n",
              "      <td>0.800000</td>\n",
              "      <td>concentrate indian economy growth development ...</td>\n",
              "    </tr>\n",
              "    <tr>\n",
              "      <th>17</th>\n",
              "      <td>0.500000</td>\n",
              "      <td>sincerely dont care amitshah stand hindi expec...</td>\n",
              "    </tr>\n",
              "    <tr>\n",
              "      <th>98</th>\n",
              "      <td>0.500000</td>\n",
              "      <td>premium smartphone sales beating indian econom...</td>\n",
              "    </tr>\n",
              "    <tr>\n",
              "      <th>20</th>\n",
              "      <td>0.500000</td>\n",
              "      <td>dear asking give bucks plant tree lovely spoken</td>\n",
              "    </tr>\n",
              "    <tr>\n",
              "      <th>11</th>\n",
              "      <td>0.400000</td>\n",
              "      <td>burning issue economy huge loss jobs across co...</td>\n",
              "    </tr>\n",
              "    <tr>\n",
              "      <th>78</th>\n",
              "      <td>0.400000</td>\n",
              "      <td>learnt famous powerful indian burn c</td>\n",
              "    </tr>\n",
              "    <tr>\n",
              "      <th>38</th>\n",
              "      <td>0.400000</td>\n",
              "      <td>hindu indian economy free fall amitshah gravit...</td>\n",
              "    </tr>\n",
              "    <tr>\n",
              "      <th>91</th>\n",
              "      <td>0.375000</td>\n",
              "      <td>interested knowing fate indian economy well in...</td>\n",
              "    </tr>\n",
              "    <tr>\n",
              "      <th>84</th>\n",
              "      <td>0.350000</td>\n",
              "      <td>absolutely true years master join college le</td>\n",
              "    </tr>\n",
              "    <tr>\n",
              "      <th>88</th>\n",
              "      <td>0.350000</td>\n",
              "      <td>true hope stop statue thing indian world econo...</td>\n",
              "    </tr>\n",
              "    <tr>\n",
              "      <th>7</th>\n",
              "      <td>0.325000</td>\n",
              "      <td>distress indian economy becoming visible real ...</td>\n",
              "    </tr>\n",
              "    <tr>\n",
              "      <th>67</th>\n",
              "      <td>0.312500</td>\n",
              "      <td>didnt say land rights course land rights prett...</td>\n",
              "    </tr>\n",
              "    <tr>\n",
              "      <th>76</th>\n",
              "      <td>0.300000</td>\n",
              "      <td>result huge indian economy pakistan build econ...</td>\n",
              "    </tr>\n",
              "    <tr>\n",
              "      <th>54</th>\n",
              "      <td>0.261111</td>\n",
              "      <td>kashmir full potential emerge secular socialis...</td>\n",
              "    </tr>\n",
              "    <tr>\n",
              "      <th>43</th>\n",
              "      <td>0.250000</td>\n",
              "      <td>question bjp amp nda members parliament speak ...</td>\n",
              "    </tr>\n",
              "    <tr>\n",
              "      <th>23</th>\n",
              "      <td>0.250000</td>\n",
              "      <td>dear indian media interested indian economy de...</td>\n",
              "    </tr>\n",
              "    <tr>\n",
              "      <th>86</th>\n",
              "      <td>0.200000</td>\n",
              "      <td>comrade thing revive indian economy amp econom...</td>\n",
              "    </tr>\n",
              "    <tr>\n",
              "      <th>85</th>\n",
              "      <td>0.160000</td>\n",
              "      <td>south states backbone indian economy high tax ...</td>\n",
              "    </tr>\n",
              "    <tr>\n",
              "      <th>32</th>\n",
              "      <td>0.100000</td>\n",
              "      <td>last amp final thing ask u r self mirror ur co...</td>\n",
              "    </tr>\n",
              "    <tr>\n",
              "      <th>10</th>\n",
              "      <td>0.068182</td>\n",
              "      <td>fm press conference live may announce key meas...</td>\n",
              "    </tr>\n",
              "    <tr>\n",
              "      <th>48</th>\n",
              "      <td>0.050000</td>\n",
              "      <td>kudos india jumped spots global economic freed...</td>\n",
              "    </tr>\n",
              "    <tr>\n",
              "      <th>60</th>\n",
              "      <td>0.040625</td>\n",
              "      <td>indian economy fastest growing economy per maj...</td>\n",
              "    </tr>\n",
              "    <tr>\n",
              "      <th>14</th>\n",
              "      <td>0.033333</td>\n",
              "      <td>india gdp much weaker expected international m...</td>\n",
              "    </tr>\n",
              "    <tr>\n",
              "      <th>63</th>\n",
              "      <td>0.020833</td>\n",
              "      <td>indian government nationalised major private b...</td>\n",
              "    </tr>\n",
              "    <tr>\n",
              "      <th>58</th>\n",
              "      <td>0.000000</td>\n",
              "      <td>premium smartphone sales beating indian econom...</td>\n",
              "    </tr>\n",
              "    <tr>\n",
              "      <th>57</th>\n",
              "      <td>0.000000</td>\n",
              "      <td></td>\n",
              "    </tr>\n",
              "    <tr>\n",
              "      <th>56</th>\n",
              "      <td>0.000000</td>\n",
              "      <td>bjp know well divert current issue another ind...</td>\n",
              "    </tr>\n",
              "    <tr>\n",
              "      <th>59</th>\n",
              "      <td>0.000000</td>\n",
              "      <td>indian visit south india time introduce ancien...</td>\n",
              "    </tr>\n",
              "    <tr>\n",
              "      <th>62</th>\n",
              "      <td>0.000000</td>\n",
              "      <td>indian economy cycles every economy go thru ne...</td>\n",
              "    </tr>\n",
              "    <tr>\n",
              "      <th>...</th>\n",
              "      <td>...</td>\n",
              "      <td>...</td>\n",
              "    </tr>\n",
              "    <tr>\n",
              "      <th>3</th>\n",
              "      <td>0.000000</td>\n",
              "      <td>answer think indian economy beat chinese econo...</td>\n",
              "    </tr>\n",
              "    <tr>\n",
              "      <th>45</th>\n",
              "      <td>0.000000</td>\n",
              "      <td>calling one nation one language looks like div...</td>\n",
              "    </tr>\n",
              "    <tr>\n",
              "      <th>46</th>\n",
              "      <td>0.000000</td>\n",
              "      <td>parents start naming sons daughters indian eco...</td>\n",
              "    </tr>\n",
              "    <tr>\n",
              "      <th>27</th>\n",
              "      <td>0.000000</td>\n",
              "      <td>modi made kashmir international issue modi spo...</td>\n",
              "    </tr>\n",
              "    <tr>\n",
              "      <th>66</th>\n",
              "      <td>-0.033333</td>\n",
              "      <td>bike becomes national vehicle indian style lat...</td>\n",
              "    </tr>\n",
              "    <tr>\n",
              "      <th>47</th>\n",
              "      <td>-0.045833</td>\n",
              "      <td>modi fulfill forecast everyone really working ...</td>\n",
              "    </tr>\n",
              "    <tr>\n",
              "      <th>15</th>\n",
              "      <td>-0.050000</td>\n",
              "      <td>imf report questioning economicslowdown indian...</td>\n",
              "    </tr>\n",
              "    <tr>\n",
              "      <th>94</th>\n",
              "      <td>-0.100000</td>\n",
              "      <td>expected two muslims one might friends dont ca...</td>\n",
              "    </tr>\n",
              "    <tr>\n",
              "      <th>24</th>\n",
              "      <td>-0.125000</td>\n",
              "      <td>answer downfall indian economy due automobile ...</td>\n",
              "    </tr>\n",
              "    <tr>\n",
              "      <th>37</th>\n",
              "      <td>-0.133333</td>\n",
              "      <td>indian economy punctured cow brigade puncture ...</td>\n",
              "    </tr>\n",
              "    <tr>\n",
              "      <th>13</th>\n",
              "      <td>-0.200000</td>\n",
              "      <td>roses red violets blue indian economy fucked g...</td>\n",
              "    </tr>\n",
              "    <tr>\n",
              "      <th>82</th>\n",
              "      <td>-0.226190</td>\n",
              "      <td>government trying revive economy motor vehicle...</td>\n",
              "    </tr>\n",
              "    <tr>\n",
              "      <th>1</th>\n",
              "      <td>-0.231818</td>\n",
              "      <td>hope new job role upbeat indian economy destru...</td>\n",
              "    </tr>\n",
              "    <tr>\n",
              "      <th>73</th>\n",
              "      <td>-0.262500</td>\n",
              "      <td>backbone indian economy weakening due poor soi...</td>\n",
              "    </tr>\n",
              "    <tr>\n",
              "      <th>72</th>\n",
              "      <td>-0.262500</td>\n",
              "      <td>backbone indian economy weakening due poor soi...</td>\n",
              "    </tr>\n",
              "    <tr>\n",
              "      <th>70</th>\n",
              "      <td>-0.262500</td>\n",
              "      <td>sadhgurujv backbone indian economy weakening d...</td>\n",
              "    </tr>\n",
              "    <tr>\n",
              "      <th>69</th>\n",
              "      <td>-0.262500</td>\n",
              "      <td>sadhgurujv backbone indian economy weakening d...</td>\n",
              "    </tr>\n",
              "    <tr>\n",
              "      <th>2</th>\n",
              "      <td>-0.300000</td>\n",
              "      <td>cant controll gdp fall indian rupee value fall...</td>\n",
              "    </tr>\n",
              "    <tr>\n",
              "      <th>12</th>\n",
              "      <td>-0.400000</td>\n",
              "      <td>cintaa demandforindustrystatus mr hemantpandey...</td>\n",
              "    </tr>\n",
              "    <tr>\n",
              "      <th>61</th>\n",
              "      <td>-0.500000</td>\n",
              "      <td>theindian believer loss rupees crores resulted...</td>\n",
              "    </tr>\n",
              "    <tr>\n",
              "      <th>93</th>\n",
              "      <td>-0.500000</td>\n",
              "      <td>eye wash headline make poor gullible indian th...</td>\n",
              "    </tr>\n",
              "    <tr>\n",
              "      <th>68</th>\n",
              "      <td>-0.500000</td>\n",
              "      <td>current year indian economy worst reason floods</td>\n",
              "    </tr>\n",
              "    <tr>\n",
              "      <th>74</th>\n",
              "      <td>-0.500000</td>\n",
              "      <td>pm modi failed india economy punish indian peo...</td>\n",
              "    </tr>\n",
              "    <tr>\n",
              "      <th>16</th>\n",
              "      <td>-0.550000</td>\n",
              "      <td>bjp bloody fools stupids cant controll gdp fal...</td>\n",
              "    </tr>\n",
              "    <tr>\n",
              "      <th>19</th>\n",
              "      <td>-0.650000</td>\n",
              "      <td>rashid unfortunate situation kashmiri happened...</td>\n",
              "    </tr>\n",
              "    <tr>\n",
              "      <th>95</th>\n",
              "      <td>-0.700000</td>\n",
              "      <td>sir crude go indian economy struggle</td>\n",
              "    </tr>\n",
              "    <tr>\n",
              "      <th>8</th>\n",
              "      <td>-0.800000</td>\n",
              "      <td>calling one nation one language seems stupid d...</td>\n",
              "    </tr>\n",
              "    <tr>\n",
              "      <th>9</th>\n",
              "      <td>-0.800000</td>\n",
              "      <td>ind bjp bloody fools stupids cant controll gdp...</td>\n",
              "    </tr>\n",
              "    <tr>\n",
              "      <th>64</th>\n",
              "      <td>-0.800000</td>\n",
              "      <td>moron look economy amp people suffering</td>\n",
              "    </tr>\n",
              "    <tr>\n",
              "      <th>53</th>\n",
              "      <td>-0.800000</td>\n",
              "      <td>hate millennials millennials driving force ind...</td>\n",
              "    </tr>\n",
              "  </tbody>\n",
              "</table>\n",
              "<p>100 rows × 2 columns</p>\n",
              "</div>"
            ],
            "text/plain": [
              "    Polarity                                         Tweet_Text\n",
              "35  1.000000  awesome prof shut mouth know nothing indian ec...\n",
              "87  0.800000  concentrate indian economy growth development ...\n",
              "17  0.500000  sincerely dont care amitshah stand hindi expec...\n",
              "98  0.500000  premium smartphone sales beating indian econom...\n",
              "20  0.500000    dear asking give bucks plant tree lovely spoken\n",
              "11  0.400000  burning issue economy huge loss jobs across co...\n",
              "78  0.400000               learnt famous powerful indian burn c\n",
              "38  0.400000  hindu indian economy free fall amitshah gravit...\n",
              "91  0.375000  interested knowing fate indian economy well in...\n",
              "84  0.350000       absolutely true years master join college le\n",
              "88  0.350000  true hope stop statue thing indian world econo...\n",
              "7   0.325000  distress indian economy becoming visible real ...\n",
              "67  0.312500  didnt say land rights course land rights prett...\n",
              "76  0.300000  result huge indian economy pakistan build econ...\n",
              "54  0.261111  kashmir full potential emerge secular socialis...\n",
              "43  0.250000  question bjp amp nda members parliament speak ...\n",
              "23  0.250000  dear indian media interested indian economy de...\n",
              "86  0.200000  comrade thing revive indian economy amp econom...\n",
              "85  0.160000  south states backbone indian economy high tax ...\n",
              "32  0.100000  last amp final thing ask u r self mirror ur co...\n",
              "10  0.068182  fm press conference live may announce key meas...\n",
              "48  0.050000  kudos india jumped spots global economic freed...\n",
              "60  0.040625  indian economy fastest growing economy per maj...\n",
              "14  0.033333  india gdp much weaker expected international m...\n",
              "63  0.020833  indian government nationalised major private b...\n",
              "58  0.000000  premium smartphone sales beating indian econom...\n",
              "57  0.000000                                                   \n",
              "56  0.000000  bjp know well divert current issue another ind...\n",
              "59  0.000000  indian visit south india time introduce ancien...\n",
              "62  0.000000  indian economy cycles every economy go thru ne...\n",
              "..       ...                                                ...\n",
              "3   0.000000  answer think indian economy beat chinese econo...\n",
              "45  0.000000  calling one nation one language looks like div...\n",
              "46  0.000000  parents start naming sons daughters indian eco...\n",
              "27  0.000000  modi made kashmir international issue modi spo...\n",
              "66 -0.033333  bike becomes national vehicle indian style lat...\n",
              "47 -0.045833  modi fulfill forecast everyone really working ...\n",
              "15 -0.050000  imf report questioning economicslowdown indian...\n",
              "94 -0.100000  expected two muslims one might friends dont ca...\n",
              "24 -0.125000  answer downfall indian economy due automobile ...\n",
              "37 -0.133333  indian economy punctured cow brigade puncture ...\n",
              "13 -0.200000  roses red violets blue indian economy fucked g...\n",
              "82 -0.226190  government trying revive economy motor vehicle...\n",
              "1  -0.231818  hope new job role upbeat indian economy destru...\n",
              "73 -0.262500  backbone indian economy weakening due poor soi...\n",
              "72 -0.262500  backbone indian economy weakening due poor soi...\n",
              "70 -0.262500  sadhgurujv backbone indian economy weakening d...\n",
              "69 -0.262500  sadhgurujv backbone indian economy weakening d...\n",
              "2  -0.300000  cant controll gdp fall indian rupee value fall...\n",
              "12 -0.400000  cintaa demandforindustrystatus mr hemantpandey...\n",
              "61 -0.500000  theindian believer loss rupees crores resulted...\n",
              "93 -0.500000  eye wash headline make poor gullible indian th...\n",
              "68 -0.500000    current year indian economy worst reason floods\n",
              "74 -0.500000  pm modi failed india economy punish indian peo...\n",
              "16 -0.550000  bjp bloody fools stupids cant controll gdp fal...\n",
              "19 -0.650000  rashid unfortunate situation kashmiri happened...\n",
              "95 -0.700000               sir crude go indian economy struggle\n",
              "8  -0.800000  calling one nation one language seems stupid d...\n",
              "9  -0.800000  ind bjp bloody fools stupids cant controll gdp...\n",
              "64 -0.800000            moron look economy amp people suffering\n",
              "53 -0.800000  hate millennials millennials driving force ind...\n",
              "\n",
              "[100 rows x 2 columns]"
            ]
          },
          "metadata": {
            "tags": []
          },
          "execution_count": 101
        }
      ]
    },
    {
      "cell_type": "code",
      "metadata": {
        "id": "iFougN37WvB1",
        "colab_type": "code",
        "outputId": "036229ef-b2d7-44c6-a3ab-156d01ecccab",
        "colab": {
          "base_uri": "https://localhost:8080/",
          "height": 607
        }
      },
      "source": [
        "# Plot the sentiment of the tweets in the form of a histogram\n",
        "fig, ax = plt.subplots(figsize = (15,10))\n",
        "#Plot Histogram\n",
        "sentiment_df.hist(bins=[-1, -0.75, -0.5, -0.25, 0.5, 0.75, 1], ax=ax, color = \"#CD7F32\")\n",
        "plt.title('Sentiment DIstribution on Indian Economy')\n",
        "plt.show()"
      ],
      "execution_count": 0,
      "outputs": [
        {
          "output_type": "display_data",
          "data": {
            "image/png": "[encoded data removed]",
            "text/plain": [
              "<Figure size 1080x720 with 1 Axes>"
            ]
          },
          "metadata": {
            "tags": []
          }
        }
      ]
    },
    {
      "cell_type": "code",
      "metadata": {
        "id": "R4IIMN30XkDY",
        "colab_type": "code",
        "colab": {}
      },
      "source": [
        ""
      ],
      "execution_count": 0,
      "outputs": []
    }
  ]
}